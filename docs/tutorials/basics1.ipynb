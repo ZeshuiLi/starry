{
 "cells": [
  {
   "cell_type": "code",
   "execution_count": null,
   "metadata": {
    "nbsphinx": "hidden"
   },
   "outputs": [],
   "source": [
    "# Determine if this is a benchmarking run\n",
    "try:\n",
    "    __benchmark__\n",
    "except NameError:\n",
    "    __benchmark__ = False"
   ]
  },
  {
   "cell_type": "markdown",
   "metadata": {},
   "source": [
    "# Basics: Surface maps\n",
    "Here we'll discuss how to instantiate surface maps, plot them, rotate them, and compute phase curves and occultation light curves."
   ]
  },
  {
   "cell_type": "markdown",
   "metadata": {},
   "source": [
    "## Importing `starry`"
   ]
  },
  {
   "cell_type": "code",
   "execution_count": null,
   "metadata": {},
   "outputs": [],
   "source": [
    "import starry"
   ]
  },
  {
   "cell_type": "markdown",
   "metadata": {},
   "source": [
    "... and some other stuff, too."
   ]
  },
  {
   "cell_type": "code",
   "execution_count": null,
   "metadata": {},
   "outputs": [],
   "source": [
    "import numpy as np\n",
    "import matplotlib.pyplot as pl"
   ]
  },
  {
   "cell_type": "code",
   "execution_count": null,
   "metadata": {
    "nbsphinx": "hidden"
   },
   "outputs": [],
   "source": [
    "%matplotlib inline"
   ]
  },
  {
   "cell_type": "markdown",
   "metadata": {},
   "source": [
    "## Creating a `starry` map\n",
    "A map is a vector of spherical harmonic coefficients, indexed by increasing order and degree:\n",
    "\n",
    "$y = \\{Y_{0,0}, \\, Y_{1,-1}, \\, Y_{1,0}, \\, Y_{1,1} \\, Y_{2,-2}, \\, Y_{2,-1}, \\, Y_{2,0} \\, Y_{2,1}, \\, Y_{2,2}, \\, ...\\}$\n",
    "\n",
    "We create one by instantiating a `starry.Map` object. The `starry.Map` object takes a single argument, `lmax`, which is the highest order of the spherical harmonics used to describe the map. Let's keep things simple for now and create a 1st-order map:"
   ]
  },
  {
   "cell_type": "code",
   "execution_count": null,
   "metadata": {},
   "outputs": [],
   "source": [
    "map = starry.Map(1)"
   ]
  },
  {
   "cell_type": "markdown",
   "metadata": {},
   "source": [
    "Our map is currently a null map: "
   ]
  },
  {
   "cell_type": "code",
   "execution_count": null,
   "metadata": {},
   "outputs": [],
   "source": [
    "print(map)"
   ]
  },
  {
   "cell_type": "markdown",
   "metadata": {},
   "source": [
    "We can edit the map directly by specifying the spherical harmonics we wish to add. Say we want our map to be very simple and equal to the spherical harmonic $Y_{1,-1}$:"
   ]
  },
  {
   "cell_type": "code",
   "execution_count": null,
   "metadata": {},
   "outputs": [],
   "source": [
    "map[1, -1] = 1\n",
    "print(map)"
   ]
  },
  {
   "cell_type": "markdown",
   "metadata": {},
   "source": [
    "## Visualizing the map"
   ]
  },
  {
   "cell_type": "markdown",
   "metadata": {},
   "source": [
    "Easy:"
   ]
  },
  {
   "cell_type": "code",
   "execution_count": null,
   "metadata": {},
   "outputs": [],
   "source": [
    "map.show()"
   ]
  },
  {
   "cell_type": "markdown",
   "metadata": {},
   "source": [
    "As you can verify on [Wikipedia](https://en.wikipedia.org/wiki/Table_of_spherical_harmonics#Real_spherical_harmonics), the spherical harmonic $Y_{1,-1}$ in Cartesian coordinates is simply some constant times $y$, which is what we are seeing here: a uniform gradient from negative flux at the south pole to positive flux at the north pole of the body."
   ]
  },
  {
   "cell_type": "markdown",
   "metadata": {},
   "source": [
    "## Applying rotations\n",
    "One thing that `starry` allows us to do easily is rotate the base map. As an example, let's rotate the map 90 degrees about the *z*-axis:"
   ]
  },
  {
   "cell_type": "code",
   "execution_count": null,
   "metadata": {},
   "outputs": [],
   "source": [
    "map.rotate(axis=[0, 0, 1], theta=90)\n",
    "map.show()"
   ]
  },
  {
   "cell_type": "markdown",
   "metadata": {},
   "source": [
    "As you can probably guess, the `axis` argument is a unit vector corresponding to the axis of rotation, which in this example we set to the *z* axis. The `theta` argument is the angle of rotation in radians, measured counter-clockwise as we stare down the axis of rotation. If we print the `Map` instance, we notice that the base map has changed:"
   ]
  },
  {
   "cell_type": "code",
   "execution_count": null,
   "metadata": {},
   "outputs": [],
   "source": [
    "print(map)"
   ]
  },
  {
   "cell_type": "code",
   "execution_count": null,
   "metadata": {
    "nbsphinx": "hidden"
   },
   "outputs": [],
   "source": [
    "if __benchmark__:\n",
    "    assert np.allclose(map.y, np.array([0., 0., 0., -1.]))"
   ]
  },
  {
   "cell_type": "markdown",
   "metadata": {},
   "source": [
    "One of the many cool things about spherical harmonics is that rotation of a $Y_{lm}$ in 3D space about any axis results in a linear combination of $Y_{lm'}$s of the same order $l$. In this case, the rotation transformed the map to  (negative) $Y_{1,1}$, which is just [proportional](https://en.wikipedia.org/wiki/Table_of_spherical_harmonics#Real_spherical_harmonics) to (negative) $x$.\n",
    "\n",
    "Let's apply another 90-degree rotation to the map, this time about the $y$-axis:"
   ]
  },
  {
   "cell_type": "code",
   "execution_count": null,
   "metadata": {},
   "outputs": [],
   "source": [
    "map.rotate(axis=[0, 1, 0], theta=90)\n",
    "map.show()"
   ]
  },
  {
   "cell_type": "code",
   "execution_count": null,
   "metadata": {},
   "outputs": [],
   "source": [
    "print(map)"
   ]
  },
  {
   "cell_type": "code",
   "execution_count": null,
   "metadata": {
    "nbsphinx": "hidden"
   },
   "outputs": [],
   "source": [
    "if __benchmark__:\n",
    "    assert np.allclose(map.y, np.array([0., 0., 1., 0.]))"
   ]
  },
  {
   "cell_type": "markdown",
   "metadata": {},
   "source": [
    "Our map is now the spherical harmonic $Y_{1,0}$, which is [proportional](https://en.wikipedia.org/wiki/Table_of_spherical_harmonics#Real_spherical_harmonics) to $z$. Finally, let's apply one final rotation about the $x$ axis to return our map to the original orientation:"
   ]
  },
  {
   "cell_type": "code",
   "execution_count": null,
   "metadata": {},
   "outputs": [],
   "source": [
    "map.rotate(axis=[1, 0, 0], theta=-90)\n",
    "map.show()"
   ]
  },
  {
   "cell_type": "code",
   "execution_count": null,
   "metadata": {},
   "outputs": [],
   "source": [
    "print(map)"
   ]
  },
  {
   "cell_type": "code",
   "execution_count": null,
   "metadata": {
    "nbsphinx": "hidden"
   },
   "outputs": [],
   "source": [
    "if __benchmark__:\n",
    "    assert np.allclose(map.y, np.array([0., 1., 0., 0.]))"
   ]
  },
  {
   "cell_type": "markdown",
   "metadata": {},
   "source": [
    "## Computing phase curves\n",
    "What we really would like to do is compute light curves. So let's get to it. Everything you need is in the `flux` method:\n",
    "\n",
    "```\n",
    "def flux(self, axis=[0, 1, 0], theta=0, xo=0, yo=0, ro=0):\n",
    "    ...\n",
    "```\n",
    "\n",
    "As before, the `axis` and `theta` parameters define the orientation of the map. The parameters `xo`, `yo`, and `ro` define the location and size of the occulting body (if any) relative to the `Map` object. `xo` and `yo` are the location of the center of the occultor and `ro` is its radius, all measured in units of the `Map` object's radius (=1). By the way, `theta`, `xo`, `yo`, and `ro` can all be either scalars or vectors. If more than one is a vector, their sizes must (obviously) match.\n",
    "\n",
    "To start, let's simply compute some phase curves, with no occultations. We will vary `theta` between 0 and 360 degrees. Let's create two `theta` grids: a fine one, for the analytic calculations, and a coarse one, for the numerical calculations, so we can compare the results."
   ]
  },
  {
   "cell_type": "code",
   "execution_count": null,
   "metadata": {},
   "outputs": [],
   "source": [
    "theta = np.linspace(0, 360, 100, endpoint=False)\n",
    "theta_num = np.linspace(0, 360, 20, endpoint=False)"
   ]
  },
  {
   "cell_type": "markdown",
   "metadata": {},
   "source": [
    "Let's rotate our map about the $x$-axis:"
   ]
  },
  {
   "cell_type": "code",
   "execution_count": null,
   "metadata": {},
   "outputs": [],
   "source": [
    "F = map.flux(axis=[1, 0, 0], theta=theta)"
   ]
  },
  {
   "cell_type": "markdown",
   "metadata": {},
   "source": [
    "Let's do the same calculation numerically:"
   ]
  },
  {
   "cell_type": "code",
   "execution_count": null,
   "metadata": {},
   "outputs": [],
   "source": [
    "F_num = map._flux_numerical(axis=[1, 0, 0], theta=theta_num)"
   ]
  },
  {
   "cell_type": "markdown",
   "metadata": {},
   "source": [
    "Compare the results:"
   ]
  },
  {
   "cell_type": "code",
   "execution_count": null,
   "metadata": {},
   "outputs": [],
   "source": [
    "fig, ax = pl.subplots(1)\n",
    "ax.plot(theta, F);\n",
    "ax.plot(theta_num, F_num, '.', ms=10);\n",
    "ax.set_xlabel(r'$\\theta$ (degrees)');\n",
    "ax.set_ylabel(r'Flux');\n",
    "ax.set_title(r'$' + str(map)[13:-1] + r'$ rotated about $x$-axis', fontsize=16);"
   ]
  },
  {
   "cell_type": "code",
   "execution_count": null,
   "metadata": {
    "nbsphinx": "hidden"
   },
   "outputs": [],
   "source": [
    "if __benchmark__:\n",
    "    assert np.all(np.abs(F[::5] - F_num) < 0.01)"
   ]
  },
  {
   "cell_type": "markdown",
   "metadata": {},
   "source": [
    "Rotation of $Y_{-1,1}$ about either the $y$ axis or the $z$ axis results in no phase variation because of its symmetry. So let's look at a higher order spherical harmonic just for fun:"
   ]
  },
  {
   "cell_type": "code",
   "execution_count": null,
   "metadata": {},
   "outputs": [],
   "source": [
    "map = starry.Map(4)\n",
    "map[4, 2] = 1\n",
    "map.show()\n",
    "print(map)"
   ]
  },
  {
   "cell_type": "markdown",
   "metadata": {},
   "source": [
    "Let's rotate it about all three principal axes and look at its phase curves."
   ]
  },
  {
   "cell_type": "code",
   "execution_count": null,
   "metadata": {},
   "outputs": [],
   "source": [
    "Fx = map.flux(axis=[1, 0, 0], theta=theta)\n",
    "Fy = map.flux(axis=[0, 1, 0], theta=theta)\n",
    "Fz = map.flux(axis=[0, 0, 1], theta=theta)"
   ]
  },
  {
   "cell_type": "code",
   "execution_count": null,
   "metadata": {},
   "outputs": [],
   "source": [
    "Fx_num = map._flux_numerical(axis=[1, 0, 0], theta=theta_num)\n",
    "Fy_num = map._flux_numerical(axis=[0, 1, 0], theta=theta_num)\n",
    "Fz_num = map._flux_numerical(axis=[0, 0, 1], theta=theta_num)"
   ]
  },
  {
   "cell_type": "code",
   "execution_count": null,
   "metadata": {},
   "outputs": [],
   "source": [
    "fig, ax = pl.subplots(1,3, figsize=(14,3))\n",
    "fig.subplots_adjust(wspace=0.3)\n",
    "axis = ['x', 'y', 'z']\n",
    "for i, F, F_num in zip(range(3), [Fx, Fy, Fz], [Fx_num, Fy_num, Fz_num]):\n",
    "    ax[i].plot(theta, F);\n",
    "    ax[i].plot(theta_num, F_num, '.', ms=10);\n",
    "    ax[i].set_xlabel(r'$\\theta$ (degrees)');\n",
    "    ax[i].set_ylabel(r'Flux');\n",
    "    ax[i].set_title(r'$' + str(map)[13:-1] + r'$ rotated about $%s$-axis' % axis[i], fontsize=16);\n",
    "    ax[i].set_ylim(-0.09,0.09)"
   ]
  },
  {
   "cell_type": "code",
   "execution_count": null,
   "metadata": {
    "nbsphinx": "hidden"
   },
   "outputs": [],
   "source": [
    "if __benchmark__:\n",
    "    assert np.all(np.abs(Fx[::5] - Fx_num) < 0.01)\n",
    "    assert np.all(np.abs(Fy[::5] - Fy_num) < 0.01)\n",
    "    assert np.all(np.abs(Fz[::5] - Fz_num) < 0.01)"
   ]
  },
  {
   "cell_type": "markdown",
   "metadata": {},
   "source": [
    "## Computing occultation light curves\n",
    "These are just as easy!"
   ]
  },
  {
   "cell_type": "markdown",
   "metadata": {},
   "source": [
    "Let's start with the following map:"
   ]
  },
  {
   "cell_type": "code",
   "execution_count": null,
   "metadata": {},
   "outputs": [],
   "source": [
    "map = starry.Map(4)\n",
    "map[0, 0] = 2\n",
    "map[4, 0] = -0.5\n",
    "map[4, 2] = 0.5\n",
    "map[4, 4] = 0.5\n",
    "map.show()\n",
    "print(map)"
   ]
  },
  {
   "cell_type": "markdown",
   "metadata": {},
   "source": [
    "Consider an occultor of radius 0.1 moving along the $+x$ direction at $y_0 = 0.5$. Suppose that the occulted body rotates by an angle $\\pi/8$ about the $y$-axis in the meantime. Computing the light curve is easy:"
   ]
  },
  {
   "cell_type": "code",
   "execution_count": null,
   "metadata": {},
   "outputs": [],
   "source": [
    "npts = 100\n",
    "ro = 0.1\n",
    "xo = np.linspace(-3,3, npts)\n",
    "yo = 0.5\n",
    "axis = [0, 1, 0]\n",
    "theta = np.linspace(0, 45, npts, endpoint=False)\n",
    "F = map.flux(axis=axis, theta=theta, xo=xo, yo=yo, ro=ro)"
   ]
  },
  {
   "cell_type": "markdown",
   "metadata": {},
   "source": [
    "As before, let's compute the flux numerically as a check. I'm decreasing the tolerance significantly so we can get a good numerical estimate. This should take <10 seconds to run:"
   ]
  },
  {
   "cell_type": "code",
   "execution_count": null,
   "metadata": {},
   "outputs": [],
   "source": [
    "theta_num = np.linspace(0, 45, 50, endpoint=False)\n",
    "xo_num = np.linspace(-3, 3, 50)\n",
    "F_num = map._flux_numerical(axis=axis, theta=theta_num, xo=xo_num, yo=yo, ro=ro, tol=1e-6)"
   ]
  },
  {
   "cell_type": "markdown",
   "metadata": {},
   "source": [
    "Here's the rather odd-looking light curve:"
   ]
  },
  {
   "cell_type": "code",
   "execution_count": null,
   "metadata": {},
   "outputs": [],
   "source": [
    "fig, ax = pl.subplots(1)\n",
    "ax.plot(theta, F, lw=2);\n",
    "ax.plot(theta_num, F_num, '.', ms=6);\n",
    "ax.set_xlabel(r'$\\theta$ (degrees)');\n",
    "ax.set_ylabel(r'Flux');\n",
    "ax.set_title(r'Occultation Lightcurve', fontsize=16);"
   ]
  },
  {
   "cell_type": "code",
   "execution_count": null,
   "metadata": {
    "nbsphinx": "hidden"
   },
   "outputs": [],
   "source": [
    "if __benchmark__:\n",
    "    assert np.all(np.abs(F[::2] - F_num) < 0.01)"
   ]
  }
 ],
 "metadata": {
  "celltoolbar": "Edit Metadata",
  "kernelspec": {
   "display_name": "Python 3",
   "language": "python",
   "name": "python3"
  },
  "language_info": {
   "codemirror_mode": {
    "name": "ipython",
    "version": 3
   },
   "file_extension": ".py",
   "mimetype": "text/x-python",
   "name": "python",
   "nbconvert_exporter": "python",
   "pygments_lexer": "ipython3",
   "version": "3.4.5"
  }
 },
 "nbformat": 4,
 "nbformat_minor": 2
}
