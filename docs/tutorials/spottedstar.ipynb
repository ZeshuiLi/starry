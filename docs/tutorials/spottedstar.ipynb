{
 "cells": [
  {
   "cell_type": "markdown",
   "metadata": {},
   "source": [
    "# Spotted star"
   ]
  },
  {
   "cell_type": "markdown",
   "metadata": {},
   "source": [
    "This is a simple example of how one might go about modeling rotational light curves of spotted stars.\n",
    "\n",
    "**NOTE: The next version of** `starry` **will likely implement actual star spots and differential rotation in a more user-friendly fashion. The** `add_gaussian` **method is in BETA, so stay tuned for updates to that. This notebook mostly showcases how if you're willing to put a little work in, you can use** `starry` **to do things beyond what it's designed to do!**"
   ]
  },
  {
   "cell_type": "code",
   "execution_count": null,
   "metadata": {},
   "outputs": [],
   "source": [
    "import starry\n",
    "import numpy as np\n",
    "import matplotlib.pyplot as pl\n",
    "from tqdm import tqdm"
   ]
  },
  {
   "cell_type": "code",
   "execution_count": null,
   "metadata": {
    "nbsphinx": "hidden"
   },
   "outputs": [],
   "source": [
    "%matplotlib inline"
   ]
  },
  {
   "cell_type": "markdown",
   "metadata": {},
   "source": [
    "## Creating a map with a starspot"
   ]
  },
  {
   "cell_type": "markdown",
   "metadata": {},
   "source": [
    "Let's create a 25th order map with a starspot at latitude 30$^\\circ$ N and longitude 30$^\\circ$ E:"
   ]
  },
  {
   "cell_type": "code",
   "execution_count": null,
   "metadata": {},
   "outputs": [],
   "source": [
    "lmax = 25\n",
    "star = starry.Map(lmax)\n",
    "star.axis = [0, 1, 0]\n",
    "star[0,0] = 1\n",
    "star.add_gaussian(sigma=0.1, amp=-1, lat=30, lon=30)\n",
    "star.show()"
   ]
  },
  {
   "cell_type": "markdown",
   "metadata": {},
   "source": [
    "We can add additional spots to the map if we'd like:"
   ]
  },
  {
   "cell_type": "code",
   "execution_count": null,
   "metadata": {},
   "outputs": [],
   "source": [
    "star.add_gaussian(sigma=0.1, amp=-0.3, lat=-10, lon=-20)\n",
    "star.add_gaussian(sigma=0.1, amp=-0.5, lat=-70, lon=60)\n",
    "star.show()"
   ]
  },
  {
   "cell_type": "markdown",
   "metadata": {},
   "source": [
    "If stars didn't rotate differentially, computing this star's rotational light curve would be cake. Let's give it a rotation period of 1 day and see what it looks like:"
   ]
  },
  {
   "cell_type": "code",
   "execution_count": null,
   "metadata": {},
   "outputs": [],
   "source": [
    "time = np.linspace(0, 3, 1000)\n",
    "P = 1.\n",
    "theta = 360 / P * time\n",
    "flux = star.flux(theta=theta)\n",
    "fig, ax = pl.subplots(1, figsize=(12, 4))\n",
    "pl.plot(time, flux)\n",
    "pl.xlabel('Time (days)', fontsize=18);\n",
    "pl.ylabel('Flux', fontsize=18);"
   ]
  },
  {
   "cell_type": "markdown",
   "metadata": {},
   "source": [
    "## Differential rotation"
   ]
  },
  {
   "cell_type": "markdown",
   "metadata": {},
   "source": [
    "In reality, starspots at different latitudes should rotate at different rates. We can simulate this by generating different `starry` maps for each starspot, and adding the light curves together."
   ]
  },
  {
   "cell_type": "markdown",
   "metadata": {},
   "source": [
    "Let's generate a few spots of random sizes, amplitudes, and location on the star."
   ]
  },
  {
   "cell_type": "code",
   "execution_count": null,
   "metadata": {},
   "outputs": [],
   "source": [
    "nspots = 5\n",
    "sigma = [0.1, 0.1, 0.2, 0.3, 0.1]\n",
    "amp = [-0.4, -0.6, -0.04, -0.2, -0.4]\n",
    "lat = np.array([0, 30, -20, 45, -60])\n",
    "lon = np.array([30, 60, 120, -30, -45])\n",
    "spot = [starry.Map(lmax) for n in range(nspots)]\n",
    "for n in range(nspots):\n",
    "    spot[n].axis = [0, 1, 0]\n",
    "    spot[n].add_gaussian(sigma=sigma[n], amp=amp[n], lat=lat[n], lon=lon[n])"
   ]
  },
  {
   "cell_type": "markdown",
   "metadata": {},
   "source": [
    "We can visualize what the star looks like at time $t = 0$ by adding the maps:"
   ]
  },
  {
   "cell_type": "code",
   "execution_count": null,
   "metadata": {},
   "outputs": [],
   "source": [
    "x, y = np.meshgrid(np.linspace(-1, 1, 75), np.linspace(-1, 1, 75))\n",
    "img = np.zeros_like(x)\n",
    "for n in range(nspots):\n",
    "    img += np.array([spot[n](x=x[j], y=y[j]) for j in range(75)])\n",
    "pl.imshow(img, cmap='plasma', origin='lower');\n",
    "pl.gca().axis('off');"
   ]
  },
  {
   "cell_type": "markdown",
   "metadata": {},
   "source": [
    "That's a crazy looking star. For simplicity, let's give each of the spots a rotation period proportional to the latitude:"
   ]
  },
  {
   "cell_type": "code",
   "execution_count": null,
   "metadata": {},
   "outputs": [],
   "source": [
    "P = 1 + np.abs(lat * np.pi / 180)\n",
    "print(P)"
   ]
  },
  {
   "cell_type": "markdown",
   "metadata": {},
   "source": [
    "Let's compute the light curve over the span of 10 days:"
   ]
  },
  {
   "cell_type": "code",
   "execution_count": null,
   "metadata": {},
   "outputs": [],
   "source": [
    "# The angular position of the spots over time\n",
    "time = np.linspace(0, 5, 1000)\n",
    "theta = [360 / P[n] * time for n in range(nspots)]\n",
    "\n",
    "# Plot the map\n",
    "nimg = 16\n",
    "res = 25\n",
    "fig, ax = pl.subplots(1, nimg, figsize=(nimg, 1))\n",
    "x, y = np.meshgrid(np.linspace(-1, 1, res), np.linspace(-1, 1, res))\n",
    "for k, i in tqdm(enumerate(np.linspace(0, 1000, nimg, endpoint=False)), total=16):\n",
    "    img = np.zeros_like(x)\n",
    "    for n in range(nspots):\n",
    "        img += np.array([spot[n](theta=theta[n][int(i)], x=x[j], y=y[j]) for j in range(res)])\n",
    "    img -= np.nanmin(img)\n",
    "    img /= np.nanmax(img)\n",
    "    ax[k].imshow(img, cmap='plasma', origin='lower', vmax=1., vmin=0.);\n",
    "    ax[k].axis('off');\n",
    "\n",
    "# Plot the combined light curve\n",
    "lc = 1 + np.sum([spot[n].flux(theta=theta[n]) for n in range(nspots)], axis=0)\n",
    "fig, ax = pl.subplots(1, figsize=(15, 5))\n",
    "ax.plot(time, lc);\n",
    "ax.set_xlim(0,5)\n",
    "ax.set_ylabel(\"Flux\", fontsize=18);\n",
    "ax.set_xlabel(\"Time\", fontsize=18);"
   ]
  },
  {
   "cell_type": "markdown",
   "metadata": {},
   "source": [
    "## Transits of spots"
   ]
  },
  {
   "cell_type": "markdown",
   "metadata": {},
   "source": [
    "Let's now look at some spot transits. Let's start simple, with `spot[3]` (the really big one):"
   ]
  },
  {
   "cell_type": "code",
   "execution_count": null,
   "metadata": {},
   "outputs": [],
   "source": [
    "star = spot[3]\n",
    "star.show()"
   ]
  },
  {
   "cell_type": "markdown",
   "metadata": {},
   "source": [
    "Now let's compute the transit light curve of a planet with $r = 0.1$ transiting along the $x$ axis at $y = 0.9$ (right through the middle of the spot):"
   ]
  },
  {
   "cell_type": "code",
   "execution_count": null,
   "metadata": {},
   "outputs": [],
   "source": [
    "# Flux w/ spot\n",
    "flux_spot = star.flux(ro=0.1, xo=np.linspace(-1.5,1.5,1000), yo=0.9)\n",
    "flux_spot /= flux_spot[0]\n",
    "\n",
    "# Flux w/ no spot\n",
    "star_nospot = starry.Map(lmax)\n",
    "star_nospot[0, 0] = 0.1\n",
    "flux_nospot = star_nospot.flux(ro=0.1, xo=np.linspace(-1.5, 1.5, 1000), yo=0.9)\n",
    "flux_nospot /= flux_nospot[0]\n",
    "\n",
    "fig, ax = pl.subplots(1, figsize=(15, 5))\n",
    "pl.plot(np.linspace(0, 1, 1000), flux_spot, label='Spotted');\n",
    "pl.plot(np.linspace(0, 1, 1000), flux_nospot, label='No spot');\n",
    "pl.legend(loc='lower left');\n",
    "pl.ylabel(\"Flux\", fontsize=18);\n",
    "pl.xlabel(\"Time\", fontsize=18);"
   ]
  },
  {
   "cell_type": "markdown",
   "metadata": {},
   "source": [
    "Cool! \n",
    "\n",
    "Lastly, just for fun, we can compute the transit light curve for the multi-spotted star from before. Let's sum up the maps for all the spots and feed them into a single map, just like before:"
   ]
  },
  {
   "cell_type": "code",
   "execution_count": null,
   "metadata": {},
   "outputs": [],
   "source": [
    "y = np.sum([spot[n].y for n in range(nspots)], axis=0)"
   ]
  },
  {
   "cell_type": "code",
   "execution_count": null,
   "metadata": {},
   "outputs": [],
   "source": [
    "star = starry.Map(lmax)\n",
    "star[:, :] = y\n",
    "star[0,0] = 0.5"
   ]
  },
  {
   "cell_type": "code",
   "execution_count": null,
   "metadata": {},
   "outputs": [],
   "source": [
    "star.show()"
   ]
  },
  {
   "cell_type": "markdown",
   "metadata": {},
   "source": [
    "Looks good. Let's change the transit parameters slightly to get a prettier light curve:"
   ]
  },
  {
   "cell_type": "code",
   "execution_count": null,
   "metadata": {},
   "outputs": [],
   "source": [
    "# Flux w/ spot\n",
    "flux_spot = star.flux(ro=0.05, xo=np.linspace(-1.5,1.5,1000), yo=0.6)\n",
    "flux_spot /= flux_spot[0]\n",
    "\n",
    "# Flux w/ no spot\n",
    "star_nospot = starry.Map(lmax)\n",
    "star_nospot[0, 0] = 0.1\n",
    "flux_nospot = star_nospot.flux(ro=0.05, xo=np.linspace(-1.5, 1.5, 1000), yo=0.6)\n",
    "flux_nospot /= flux_nospot[0]\n",
    "\n",
    "fig, ax = pl.subplots(1, figsize=(15, 5))\n",
    "pl.plot(np.linspace(0, 1, 1000), flux_spot, label='Spotted');\n",
    "pl.plot(np.linspace(0, 1, 1000), flux_nospot, label='No spot');\n",
    "pl.legend(loc='lower left');\n",
    "pl.ylabel(\"Flux\", fontsize=18);\n",
    "pl.xlabel(\"Time\", fontsize=18);"
   ]
  },
  {
   "cell_type": "markdown",
   "metadata": {},
   "source": [
    "Two *very big* spot crossings are clearly visible!"
   ]
  }
 ],
 "metadata": {
  "kernelspec": {
   "display_name": "Python 3",
   "language": "python",
   "name": "python3"
  },
  "language_info": {
   "codemirror_mode": {
    "name": "ipython",
    "version": 3
   },
   "file_extension": ".py",
   "mimetype": "text/x-python",
   "name": "python",
   "nbconvert_exporter": "python",
   "pygments_lexer": "ipython3",
   "version": "3.6.5"
  }
 },
 "nbformat": 4,
 "nbformat_minor": 2
}
