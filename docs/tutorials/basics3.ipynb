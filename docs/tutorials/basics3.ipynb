{
 "cells": [
  {
   "cell_type": "code",
   "execution_count": null,
   "metadata": {
    "nbsphinx": "hidden"
   },
   "outputs": [],
   "source": [
    "# Determine if this is a benchmarking run\n",
    "try:\n",
    "    __benchmark__\n",
    "except NameError:\n",
    "    __benchmark__ = False"
   ]
  },
  {
   "cell_type": "markdown",
   "metadata": {},
   "source": [
    "# Basics: Exoplanet systems\n",
    "Here we'll discuss how to instantiate an exoplanet system and compute its full light curve."
   ]
  },
  {
   "cell_type": "markdown",
   "metadata": {},
   "source": [
    "## Imports"
   ]
  },
  {
   "cell_type": "code",
   "execution_count": null,
   "metadata": {},
   "outputs": [],
   "source": [
    "import starry\n",
    "import numpy as np\n",
    "import matplotlib.pyplot as pl"
   ]
  },
  {
   "cell_type": "code",
   "execution_count": null,
   "metadata": {
    "nbsphinx": "hidden"
   },
   "outputs": [],
   "source": [
    "%matplotlib inline"
   ]
  },
  {
   "cell_type": "markdown",
   "metadata": {},
   "source": [
    "## Creating a star"
   ]
  },
  {
   "cell_type": "markdown",
   "metadata": {},
   "source": [
    "This is as easy as it gets:"
   ]
  },
  {
   "cell_type": "code",
   "execution_count": null,
   "metadata": {},
   "outputs": [],
   "source": [
    "star = starry.Star()"
   ]
  },
  {
   "cell_type": "markdown",
   "metadata": {},
   "source": [
    "The `Star` object is optimized for computing exoplanet transits and secondary eclipses, so you don't have too much freedom in settings its properties. For one, its radius and luminosity are fixed at unity: this sets the units for the planetary properties, since the planet radius, semi-major axis, and luminosity are specified in stellar units. You also don't get to specify a rotation axis or rotational period: the star is assumed to be spotless, so it has no intrinsic phase curve. If you want to do something involving stellar rotation, you'll need to instantiate a `Map` object directly. Check out the `Spotted star` tutorial for some ideas.\n",
    "\n",
    "What you **can** do is specify the limb darkening parameters of the star. By default, the star is instantiated with a second-degree spherical harmonic `LimbDarkenedMap` (you can increase the degree by providing a number in the call to `starry.Star`). Let's give the stellar map a linear and a quadratic limb-darkening coefficient:"
   ]
  },
  {
   "cell_type": "code",
   "execution_count": null,
   "metadata": {},
   "outputs": [],
   "source": [
    "star.map[1] = 0.40\n",
    "star.map[2] = 0.26"
   ]
  },
  {
   "cell_type": "markdown",
   "metadata": {},
   "source": [
    "Here's what that looks like:"
   ]
  },
  {
   "cell_type": "code",
   "execution_count": null,
   "metadata": {},
   "outputs": [],
   "source": [
    "star.map.show()"
   ]
  },
  {
   "cell_type": "code",
   "execution_count": null,
   "metadata": {
    "nbsphinx": "hidden"
   },
   "outputs": [],
   "source": [
    "if __benchmark__:\n",
    "    assert np.allclose(star.map.evaluate(x=[0,1,0], y=[0,0,1]), np.array([0.3866112, 0.13144781, 0.13144781]))"
   ]
  },
  {
   "cell_type": "markdown",
   "metadata": {},
   "source": [
    "## Creating a planet"
   ]
  },
  {
   "cell_type": "markdown",
   "metadata": {},
   "source": [
    "This one is a bit more fun:"
   ]
  },
  {
   "cell_type": "code",
   "execution_count": null,
   "metadata": {},
   "outputs": [],
   "source": [
    "planet = starry.Planet(lmax=5, r=0.1, L=5e-3, porb=1, prot=1, a=30, Omega=30, ecc=0.3, w=30)"
   ]
  },
  {
   "cell_type": "markdown",
   "metadata": {},
   "source": [
    "Here we've instantiated a planet with a fifth degree surface map, a radius that is one-tenth that of the star, a luminosity that is one-two-hundredth that of the star, an orbital period of 1 day, a rotational period of 1 day, and a semi-major axis that's thirty times the stellar radius. This is essentially a tidally-locked hot Jupiter.\n",
    "\n",
    "**NOTE:** The default rotational period for planets is **infinity**, so if you don't specify `prot`, the planet's surface map will not rotate as the planet orbits the star and there will be no phase curve variation. For planets whose emission tracks the star--i.e., a hot Jupiter with a hotspot--set `prot=porb`.\n",
    "\n",
    "There are a bunch of other settings related to the orbit, so check out the docs for those. By default, planets are given zero eccentricity, edge-on inclination, and zero obliquity, and $t = 0$ corresponds to a transiting configuration.\n",
    "\n",
    "OK, the next thing we get to do is specify a planet map. For simplicity, let's just create a random one:"
   ]
  },
  {
   "cell_type": "code",
   "execution_count": null,
   "metadata": {},
   "outputs": [],
   "source": [
    "np.random.seed(123)\n",
    "for l in range(1, planet.map.lmax + 1):\n",
    "    for m in range(-l, l + 1):\n",
    "        planet.map[l, m] = 0.01 * np.random.randn()"
   ]
  },
  {
   "cell_type": "code",
   "execution_count": null,
   "metadata": {},
   "outputs": [],
   "source": [
    "planet.map.show()"
   ]
  },
  {
   "cell_type": "markdown",
   "metadata": {},
   "source": [
    "Note that when instantiating a map for a `starry.Planet` instance, **the map should be defined as it would appear during secondary eclipse.** That is, the image you see above is the full dayside of the planet, with the orbital plane slicing the planet's equator and ecliptic north pointing up. **This is true even for planets that aren't edge on and don't have secondary eclipses.** The map is always defined as if it were seen edge on, with the orbital plane along the $xy$ plane and the planet behind the star.\n",
    "\n",
    "Now, it's probably a good idea to ensure we didn't end up with negative specific intensity anywhere:"
   ]
  },
  {
   "cell_type": "code",
   "execution_count": null,
   "metadata": {},
   "outputs": [],
   "source": [
    "planet.map.psd()"
   ]
  },
  {
   "cell_type": "markdown",
   "metadata": {},
   "source": [
    "## Creating a system"
   ]
  },
  {
   "cell_type": "markdown",
   "metadata": {},
   "source": [
    "Now that we have a star and a planet, we can instantiate a planetary system:"
   ]
  },
  {
   "cell_type": "code",
   "execution_count": null,
   "metadata": {},
   "outputs": [],
   "source": [
    "system = starry.System([star, planet])\n",
    "print(system)"
   ]
  },
  {
   "cell_type": "markdown",
   "metadata": {},
   "source": [
    "The first argument to a `starry.System` call is an array of bodies, starting with a `Star` object, and followed by any number of planets. At present, that's all `starry.System` will accept: star-star and planet-moon systems aren't yet supported. \n",
    "\n",
    "**NOTE:** You can, of course, manually model other kinds of systems by instantiating a `starry.Map` for each body, doing the orbit calculations yourself, and calling the `flux()` method of the maps once you know the positions of all the bodies.\n",
    "\n",
    "There are some other arguments you can provide--notably an exposure time (`exptime`) argument--if the exposure time of your data is long enough to affect the light curve shape. Check out the docs for more information."
   ]
  },
  {
   "cell_type": "markdown",
   "metadata": {},
   "source": [
    "## Computing light curves"
   ]
  },
  {
   "cell_type": "markdown",
   "metadata": {},
   "source": [
    "We're ready to compute the full system light curve:"
   ]
  },
  {
   "cell_type": "code",
   "execution_count": null,
   "metadata": {},
   "outputs": [],
   "source": [
    "time = np.linspace(-0.25, 3.25, 10000)\n",
    "%time system.compute(time)"
   ]
  },
  {
   "cell_type": "markdown",
   "metadata": {},
   "source": [
    "Cool -- `starry` computed 10,000 cadences in 35 ms. Let's check it out:"
   ]
  },
  {
   "cell_type": "code",
   "execution_count": null,
   "metadata": {},
   "outputs": [],
   "source": [
    "fig, ax = pl.subplots(1, figsize=(14, 3))\n",
    "ax.set_xlabel('Time [days]', fontsize=16)\n",
    "ax.set_ylabel('System Flux', fontsize=16)\n",
    "ax.plot(time, system.flux);"
   ]
  },
  {
   "cell_type": "code",
   "execution_count": null,
   "metadata": {
    "nbsphinx": "hidden"
   },
   "outputs": [],
   "source": [
    "if __benchmark__:\n",
    "    assert np.allclose([np.min(system.flux), np.max(system.flux)], [0.992787453371187, 1.0051091461483344])"
   ]
  },
  {
   "cell_type": "markdown",
   "metadata": {},
   "source": [
    "We can also plot the stellar and planetary light curves individually:"
   ]
  },
  {
   "cell_type": "code",
   "execution_count": null,
   "metadata": {},
   "outputs": [],
   "source": [
    "# This will show you only the transits\n",
    "fig, ax = pl.subplots(1, figsize=(14, 3))\n",
    "ax.set_xlabel('Time [days]', fontsize=16)\n",
    "ax.set_ylabel('Planet Flux', fontsize=16)\n",
    "ax.plot(time, star.flux);"
   ]
  },
  {
   "cell_type": "code",
   "execution_count": null,
   "metadata": {
    "nbsphinx": "hidden"
   },
   "outputs": [],
   "source": [
    "if __benchmark__:\n",
    "    assert np.allclose([np.min(star.flux), np.max(star.flux)], [0.9878665127810682, 1.0])"
   ]
  },
  {
   "cell_type": "code",
   "execution_count": null,
   "metadata": {},
   "outputs": [],
   "source": [
    "# This will show you only the planet's flux (phase curve + secondary eclipse)\n",
    "fig, ax = pl.subplots(1, figsize=(14, 3))\n",
    "ax.set_xlabel('Time [days]', fontsize=16)\n",
    "ax.set_ylabel('Planet Flux', fontsize=16)\n",
    "ax.plot(time, planet.flux);"
   ]
  },
  {
   "cell_type": "code",
   "execution_count": null,
   "metadata": {
    "nbsphinx": "hidden"
   },
   "outputs": [],
   "source": [
    "if __benchmark__:\n",
    "    assert np.allclose([np.min(planet.flux), np.max(planet.flux)], [0.0, 0.00510914618136758])\n",
    "    assert np.argmin(planet.flux) == 2390"
   ]
  },
  {
   "cell_type": "markdown",
   "metadata": {},
   "source": [
    "And, just for fun, the planet's orbit (the sky plane is the $xy$ plane, with $y$ pointing up and $x$ pointing to the right; $z$ points toward the observer):"
   ]
  },
  {
   "cell_type": "code",
   "execution_count": null,
   "metadata": {},
   "outputs": [],
   "source": [
    "fig, ax = pl.subplots(1, figsize=(14, 4.25))\n",
    "ax.plot(time, planet.x, label='x')\n",
    "ax.plot(time, planet.y, label='y')\n",
    "ax.plot(time, planet.z, label='z')\n",
    "ax.set_ylabel(r'Position [R$_*$]', fontsize=16);\n",
    "ax.set_xlabel(r'Time [days]', fontsize=16);\n",
    "ax.legend();\n",
    "\n",
    "fig, ax = pl.subplots(1,3, sharex=True, sharey=True, figsize=(14, 4.25))\n",
    "ax[0].plot(planet.x, planet.y)\n",
    "ax[1].plot(planet.x, planet.z)\n",
    "ax[2].plot(planet.z, planet.y)\n",
    "for n in [0, 1, 2]:\n",
    "    ax[n].scatter(0, 0, marker='*', color='k', s=100, zorder=10)\n",
    "ax[0].set_xlabel(r'x [R$_*$]', fontsize=16);\n",
    "ax[0].set_ylabel(r'y [R$_*$]', fontsize=16);\n",
    "ax[1].set_xlabel(r'x [R$_*$]', fontsize=16);\n",
    "ax[1].set_ylabel(r'z [R$_*$]', fontsize=16);\n",
    "ax[2].set_xlabel(r'z [R$_*$]', fontsize=16);\n",
    "ax[2].set_ylabel(r'y [R$_*$]', fontsize=16);"
   ]
  },
  {
   "cell_type": "code",
   "execution_count": null,
   "metadata": {
    "nbsphinx": "hidden"
   },
   "outputs": [],
   "source": [
    "if __benchmark__:\n",
    "    assert np.allclose(planet.x[500:505], np.array([-0.30964744, -0.24076855, -0.17188729, -0.10300434, -0.03412038]))\n",
    "    assert np.allclose(planet.y[500:505], np.array([-0.17877503, -0.13900779, -0.09923917, -0.05946958, -0.01969941]))\n",
    "    assert np.allclose(planet.z[500:505], np.array([23.65600332, 23.67490184, 23.6935674,  23.71200035, 23.73020103]))"
   ]
  }
 ],
 "metadata": {
  "celltoolbar": "Edit Metadata",
  "kernelspec": {
   "display_name": "Python 3",
   "language": "python",
   "name": "python3"
  },
  "language_info": {
   "codemirror_mode": {
    "name": "ipython",
    "version": 3
   },
   "file_extension": ".py",
   "mimetype": "text/x-python",
   "name": "python",
   "nbconvert_exporter": "python",
   "pygments_lexer": "ipython3",
   "version": "3.6.5"
  }
 },
 "nbformat": 4,
 "nbformat_minor": 2
}
