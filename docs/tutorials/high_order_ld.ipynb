{
 "cells": [
  {
   "cell_type": "markdown",
   "metadata": {},
   "source": [
    "# Higher order limb darkening\n",
    "Here we'll go over how to compute analytic light curves for stars with arbitrary order limb darkening."
   ]
  },
  {
   "cell_type": "markdown",
   "metadata": {},
   "source": [
    "Let's begin by importing what we'll need:"
   ]
  },
  {
   "cell_type": "code",
   "execution_count": null,
   "metadata": {},
   "outputs": [],
   "source": [
    "import starry\n",
    "import numpy as np\n",
    "import matplotlib.pyplot as pl\n",
    "from scipy.optimize import curve_fit"
   ]
  },
  {
   "cell_type": "code",
   "execution_count": null,
   "metadata": {
    "nbsphinx": "hidden"
   },
   "outputs": [],
   "source": [
    "%matplotlib inline"
   ]
  },
  {
   "cell_type": "markdown",
   "metadata": {},
   "source": [
    "For completeness, let's begin by defining our polynomial limb darkening model. Recall that for quadratic limb darkening, the specific intensity of the star as a function of $\\cos\\theta \\equiv \\mu$ is given by\n",
    "\n",
    "$\\frac{I(\\mu)}{I(1)} = 1 - u_1(1-\\mu) - u_2(1-\\mu)^2$\n",
    "\n",
    "We can generalize this to arbitrary order by writing\n",
    "\n",
    "$\\frac{I(\\mu)}{I(1)} = 1 - u_1(1-\\mu) - u_2(1-\\mu)^2 - u_3(1-\\mu)^3 - \\, ... - \\, u_{l_\\mathrm{max}}(1-\\mu)^{l_\\mathrm{max}}$\n",
    "\n",
    "or, in more compact form,\n",
    "\n",
    "$\\frac{I(\\mu)}{I(1)} = 1 - \\sum_{l=1}^{l_\\mathrm{max}}u_l(1-\\mu)^l$"
   ]
  },
  {
   "cell_type": "code",
   "execution_count": null,
   "metadata": {},
   "outputs": [],
   "source": [
    "def IofMu(mu, *u):\n",
    "    \"\"\"Return the specific intensity as a function of `mu`.\"\"\"\n",
    "    return (1 - np.sum([u[l] * (1 - mu) ** l for l in range(1, len(u))], axis=0))"
   ]
  },
  {
   "cell_type": "markdown",
   "metadata": {},
   "source": [
    "Now say that we have the values of $I(\\mu)$ at specific values of $\\mu$ from an actual stellar model for a given type of star. Say we have ten measurements, equally spaced from $\\mu=1$ (the center of the disk) to $\\mu=0$ (the limb):"
   ]
  },
  {
   "cell_type": "code",
   "execution_count": null,
   "metadata": {},
   "outputs": [],
   "source": [
    "mu = [1.0, 0.9, 0.8, 0.7, 0.6, 0.5, 0.4, 0.3, 0.2, 0.1, 0.0]\n",
    "I = [1.0, 0.95904139, 0.91381385, 0.86332286, 0.80617997, 0.74036269,\n",
    "     0.66275783, 0.56820172, 0.44715803, 0.2787536,  0.0]"
   ]
  },
  {
   "cell_type": "markdown",
   "metadata": {},
   "source": [
    "## Obtaining a limb darkening model"
   ]
  },
  {
   "cell_type": "markdown",
   "metadata": {},
   "source": [
    "Our task is to fit our model to these values and determine the coefficients $u_l$ so we can compute transit light curves. One of the most common parametrizations in the literature is the quadratic limb darkening model, which is a function of only two coefficients: $u_1$ and $u_2$. Let's use the `curve_fit` function from `scipy` to get the best-fitting quadratic model to our data:"
   ]
  },
  {
   "cell_type": "code",
   "execution_count": null,
   "metadata": {},
   "outputs": [],
   "source": [
    "guess = [1, 0, 0]\n",
    "u, _ = curve_fit(IofMu, mu, I, guess)\n",
    "print(u)"
   ]
  },
  {
   "cell_type": "markdown",
   "metadata": {},
   "source": [
    "Like any seasoned Python user, let's ignore that warning and see how our model looks:"
   ]
  },
  {
   "cell_type": "code",
   "execution_count": null,
   "metadata": {},
   "outputs": [],
   "source": [
    "fig, ax = pl.subplots(1, figsize=(8, 4))\n",
    "ax.plot(mu, I, 'ko', label='Data')\n",
    "mu_hires = np.linspace(0, 1, 100)\n",
    "ax.plot(mu_hires, IofMu(mu_hires, *u), label='Quadratic LD')\n",
    "ax.set_xlim(1, 0)\n",
    "ax.set_xlabel(r'$\\mu$', fontsize=16)\n",
    "ax.set_ylabel('Specific Intensity', fontsize=16)\n",
    "ax.legend(loc='lower left')\n",
    "pl.show()"
   ]
  },
  {
   "cell_type": "markdown",
   "metadata": {},
   "source": [
    "Not *terrible*, but there's some discrepancy, especially near the limb. But since the transit model for this type of limb darkening is analytic (Mandel & Agol 2002), this model is still widely used."
   ]
  },
  {
   "cell_type": "markdown",
   "metadata": {},
   "source": [
    "Fortunately, with **starry**, we can do a lot better. Note that we have 11 data points, so if we fit a **10th order limb darkening model**, we can have it thread through every single data point exactly.* "
   ]
  },
  {
   "cell_type": "markdown",
   "metadata": {},
   "source": [
    "**Having a model that fits your data exactly is usually not a good thing in astronomy, but since our \"data\" are actually a model output with no error bars,\n",
    "and since they're evenly sampled, you'll see that a polynomial fit is actually a fine way to interpolate between the points.*"
   ]
  },
  {
   "cell_type": "code",
   "execution_count": null,
   "metadata": {},
   "outputs": [],
   "source": [
    "guess = [1, 0, 0, 0, 0, 0, 0, 0, 0, 0, 0]\n",
    "u10, _ = curve_fit(IofMu, mu, I, guess)\n",
    "print(u10)"
   ]
  },
  {
   "cell_type": "markdown",
   "metadata": {},
   "source": [
    "Again, let's ignore the warning and plot both models to see how we did:"
   ]
  },
  {
   "cell_type": "code",
   "execution_count": null,
   "metadata": {},
   "outputs": [],
   "source": [
    "fig, ax = pl.subplots(1, figsize=(8, 4))\n",
    "ax.plot(mu, I, 'ko', label='Data')\n",
    "mu_hires = np.linspace(0, 1, 100)\n",
    "ax.plot(mu_hires, IofMu(mu_hires, *u), label='Quadratic LD')\n",
    "ax.plot(mu_hires, IofMu(mu_hires, *u10), label='10th order LD')\n",
    "ax.set_xlim(1, 0)\n",
    "ax.set_xlabel(r'$\\mu$', fontsize=16)\n",
    "ax.set_ylabel('Specific Intensity', fontsize=16)\n",
    "ax.legend(loc='lower left')\n",
    "pl.show()"
   ]
  },
  {
   "cell_type": "markdown",
   "metadata": {},
   "source": [
    "Sweet -- as expected, the 10th order model fits the data perfectly and the interpolation between points seems reasonable. No onto the magic part: transit light curves!"
   ]
  },
  {
   "cell_type": "markdown",
   "metadata": {},
   "source": [
    "## Computing transit light curves"
   ]
  },
  {
   "cell_type": "markdown",
   "metadata": {},
   "source": [
    "Let's compute a simple transit light curve for an edge-on hot Jupiter ($r_o = 0.1$). Let's compute 10,000 points so we can also look at some speed tests:"
   ]
  },
  {
   "cell_type": "code",
   "execution_count": null,
   "metadata": {},
   "outputs": [],
   "source": [
    "npts = 10000\n",
    "r = 0.1\n",
    "b = np.linspace(-1.5, 1.5, npts)"
   ]
  },
  {
   "cell_type": "markdown",
   "metadata": {},
   "source": [
    "First, business as usual: instantiate the default `Map`, assign the linear and quadratic limb darkening coefficients, and compute the transit flux. Recall that `u[0]` is fixed so we never need to assign it."
   ]
  },
  {
   "cell_type": "code",
   "execution_count": null,
   "metadata": {},
   "outputs": [],
   "source": [
    "map = starry.Map()\n",
    "map[1] = u[1]\n",
    "map[2] = u[2]\n",
    "%time flux = map.flux(xo=b, yo=0, ro=r)"
   ]
  },
  {
   "cell_type": "markdown",
   "metadata": {},
   "source": [
    "OK, now let's go bonkers and compute the transit flux for the 10th order limb darkening model."
   ]
  },
  {
   "cell_type": "code",
   "execution_count": null,
   "metadata": {},
   "outputs": [],
   "source": [
    "map10 = starry.Map(10)\n",
    "map10[:] = u10[1:]\n",
    "%time flux10 = map10.flux(xo=b, yo=0, ro=r)"
   ]
  },
  {
   "cell_type": "code",
   "execution_count": null,
   "metadata": {},
   "outputs": [],
   "source": [
    "map10.flux(xo=0.009, yo=0, ro=r)"
   ]
  },
  {
   "cell_type": "markdown",
   "metadata": {},
   "source": [
    "That took about 30 times longer, but it is still blazing fast. Let's now plot and compare the two transit light curves:"
   ]
  },
  {
   "cell_type": "code",
   "execution_count": null,
   "metadata": {},
   "outputs": [],
   "source": [
    "fig, ax = pl.subplots(2, figsize=(8, 7))\n",
    "ax[0].plot(b, flux, '-', label='Quadratic LD')\n",
    "ax[0].plot(b, flux10, '-', label='10th order LD')\n",
    "ax[1].plot(b, flux - flux10, '-')\n",
    "ax[0].legend(loc='lower left')\n",
    "ax[0].set_ylabel('Flux', fontsize=16)\n",
    "ax[1].set_ylabel('Relative error', fontsize=16)\n",
    "ax[1].set_xlabel('Impact parameter', fontsize=16)\n",
    "pl.show()"
   ]
  },
  {
   "cell_type": "markdown",
   "metadata": {},
   "source": [
    "The difference isn't huge in this case: the maximum relative error is about 300 ppm. This doesn't matter for most applications, but it is noticeable by eye. As our instrumentation gets better (I'm thinking JWST!) this could become important."
   ]
  }
 ],
 "metadata": {
  "kernelspec": {
   "display_name": "Python 3",
   "language": "python",
   "name": "python3"
  },
  "language_info": {
   "codemirror_mode": {
    "name": "ipython",
    "version": 3
   },
   "file_extension": ".py",
   "mimetype": "text/x-python",
   "name": "python",
   "nbconvert_exporter": "python",
   "pygments_lexer": "ipython3",
   "version": "3.6.5"
  }
 },
 "nbformat": 4,
 "nbformat_minor": 2
}
