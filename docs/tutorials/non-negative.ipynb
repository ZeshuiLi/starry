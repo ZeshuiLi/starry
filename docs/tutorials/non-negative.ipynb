{
 "cells": [
  {
   "cell_type": "markdown",
   "metadata": {},
   "source": [
    "# Enforcing non-negative maps\n",
    "Perhaps the simplest prior we can place on the surface map of a body is that its intensity not be negative anywhere. As we discuss in the paper, this is trivial to enforce for $l = 0$ and $l = 1$ maps, but can be tricky for higher degree maps since the problem is not analytic. Still, `starry` can efficiently determine whether a map is positive semi-definite (*PSD*) via the `map.is_physical()` method, which returns `True` if the map is physical (non-negative everywhere) and `False` otherwise (negative somewhere).\n",
    "\n",
    "To showcase this, let's investigate the values of the coefficients of maps of different degree that guarantee positive semi-definiteness. We'll run a very simple MCMC chain with a likelihood definied to be 1 if the map is *PSD* and 0 otherwise."
   ]
  },
  {
   "cell_type": "code",
   "execution_count": null,
   "metadata": {},
   "outputs": [],
   "source": [
    "import starry\n",
    "import numpy as np\n",
    "import matplotlib.pyplot as pl\n",
    "%matplotlib inline\n",
    "import emcee\n",
    "from tqdm import tqdm\n",
    "import corner"
   ]
  },
  {
   "cell_type": "code",
   "execution_count": null,
   "metadata": {},
   "outputs": [],
   "source": [
    "def lnlike(p, map, l, max_iterations=100):\n",
    "    \"\"\"Compute the log likelihood.\"\"\"\n",
    "    # Set the coeffs\n",
    "    map[l, :] = p\n",
    "    \n",
    "    # Determine if it is positive semi-definite\n",
    "    if map.is_physical(max_iterations=max_iterations):\n",
    "        return 0\n",
    "    else:\n",
    "        return -np.inf\n",
    "\n",
    "    \n",
    "def compute(l=1, nsteps=10000, scale=1e-4, max_iterations=100):\n",
    "    \"\"\"Run MCMC to find the PSD regions of parameter space.\"\"\"\n",
    "    # Instantiate the map\n",
    "    map = starry.Map(l)\n",
    "    map[0, 0] = 1\n",
    "\n",
    "    # Run MCMC\n",
    "    ndim = 2 * l + 1\n",
    "    nwalk = ndim * 2\n",
    "    p0 = [scale * np.random.randn(ndim) for k in range(nwalk)]\n",
    "    sampler = emcee.EnsembleSampler(nwalk, ndim, lnlike, args=[map, l, max_iterations])\n",
    "    for i in tqdm(sampler.sample(p0, iterations=nsteps), total=nsteps):\n",
    "        pass\n",
    "\n",
    "    # Plot the corner plot\n",
    "    labels = [r\"$y_{%d,%d}$\" % (l, m) for m in range(-l, l+1)]\n",
    "    samples = sampler.flatchain[np.where(sampler.flatlnprobability == 0)]\n",
    "    fig = corner.corner(samples, labels=labels, bins=50);\n",
    "    for ax in fig.axes:\n",
    "        ax.xaxis.label.set_fontsize(20)\n",
    "        ax.yaxis.label.set_fontsize(20)\n",
    "    \n",
    "    return sampler"
   ]
  },
  {
   "cell_type": "markdown",
   "metadata": {},
   "source": [
    "Let's investigate *PSD* for degree $l = 1$ maps."
   ]
  },
  {
   "cell_type": "code",
   "execution_count": null,
   "metadata": {},
   "outputs": [],
   "source": [
    "sampler = compute(l=1)"
   ]
  },
  {
   "cell_type": "markdown",
   "metadata": {},
   "source": [
    "In the paper we showed that *PSD* is guaranteed if $y_{1,-1}^2 + y_{1,0}^2 + y_{1,1}^2 \\le \\frac{1}{3}$. This corresponds to a 3D ball of radius $\\sqrt{\\frac{1}{3}} \\approx 0.577$ centered at the origin. And that's exactly what we get!"
   ]
  },
  {
   "cell_type": "markdown",
   "metadata": {},
   "source": [
    "Let's go to $l = 2$ and do the same thing:"
   ]
  },
  {
   "cell_type": "code",
   "execution_count": null,
   "metadata": {},
   "outputs": [],
   "source": [
    "compute(l=2, nsteps=100000)"
   ]
  },
  {
   "cell_type": "markdown",
   "metadata": {},
   "source": [
    "Our parameter space is no longer so simple! As far as we know, there's no analytic expression to summarize the values of these coefficients that guarantee PSD. But the numerical solver in starry is fairly fast, so calling map.psd() is the way to go.\n",
    "\n",
    "**NOTE: If you squint, you'll notice that there are a few outliers in the plots above. These cases are rare, but sometimes the numerical solver will fail to converge and miss negative regions in the map. But since this is quite uncommon, this method should still be fine to enforce physical priors in optimization problems. Just keep this caveat in mind...**\n",
    "\n",
    "Finally, just for fun, let's do $l=3$:"
   ]
  },
  {
   "cell_type": "code",
   "execution_count": null,
   "metadata": {},
   "outputs": [],
   "source": [
    "sampler = compute(l=3, nsteps=100000)"
   ]
  },
  {
   "cell_type": "code",
   "execution_count": null,
   "metadata": {},
   "outputs": [],
   "source": []
  }
 ],
 "metadata": {
  "kernelspec": {
   "display_name": "Python 3",
   "language": "python",
   "name": "python3"
  },
  "language_info": {
   "codemirror_mode": {
    "name": "ipython",
    "version": 3
   },
   "file_extension": ".py",
   "mimetype": "text/x-python",
   "name": "python",
   "nbconvert_exporter": "python",
   "pygments_lexer": "ipython3",
   "version": "3.6.5"
  }
 },
 "nbformat": 4,
 "nbformat_minor": 2
}
