{
 "cells": [
  {
   "cell_type": "markdown",
   "metadata": {},
   "source": [
    "# A map of the hot jupiter HD 189733b\n",
    "This notebook applies `starry` to real data: the secondary eclipse of HD 189733b measured in Knutson et al. (2007). Here we'll try to recover the hotspot offset found in Majeau et al. (2012). We assume the orbital parameters are known exactly and that the planet map is given by a dipole (a linear combination of $l = 1$ spherical harmonics) that rotates at the same period as the orbit. We're going to solve for the three $l = 1$ spherical harmonic coefficients and the planet luminosity."
   ]
  },
  {
   "cell_type": "code",
   "execution_count": null,
   "metadata": {},
   "outputs": [],
   "source": [
    "import sys, os\n",
    "import matplotlib.pyplot as plt\n",
    "import numpy as np\n",
    "import emcee, corner\n",
    "import starry"
   ]
  },
  {
   "cell_type": "code",
   "execution_count": null,
   "metadata": {
    "nbsphinx": "hidden"
   },
   "outputs": [],
   "source": [
    "# Import some stuff and perform some hacks\n",
    "import warnings\n",
    "warnings.filterwarnings('ignore')\n",
    "from matplotlib import gridspec\n",
    "from matplotlib import rcParams\n",
    "rcParams[\"savefig.dpi\"] = 100\n",
    "rcParams[\"figure.dpi\"] = 100\n",
    "rcParams[\"font.size\"] = 14\n",
    "rcParams[\"figure.figsize\"] = [4,3]\n",
    "rcParams[\"font.family\"] = \"sans-serif\"\n",
    "rcParams[\"font.sans-serif\"] = [\"Computer Modern Sans Serif\"]\n",
    "rcParams[\"text.usetex\"] = False\n",
    "\n",
    "# Add project scripts directory to path\n",
    "sys.path.insert(1, os.path.join(os.path.dirname(os.path.dirname(os.path.abspath(\".\"))), \"tex/figures\"))\n",
    "%matplotlib inline"
   ]
  },
  {
   "cell_type": "markdown",
   "metadata": {},
   "source": [
    "Let's import the routines that do the heavy lifting from the `hd189733b` script in the `tex/figures` directory of the `starry` repo:"
   ]
  },
  {
   "cell_type": "code",
   "execution_count": null,
   "metadata": {},
   "outputs": [],
   "source": [
    "import hd189733b as hd189"
   ]
  },
  {
   "cell_type": "markdown",
   "metadata": {},
   "source": [
    "We can easily load and plot the data set:"
   ]
  },
  {
   "cell_type": "code",
   "execution_count": null,
   "metadata": {},
   "outputs": [],
   "source": [
    "data = hd189.EclipseData(plot = True)"
   ]
  },
  {
   "cell_type": "markdown",
   "metadata": {},
   "source": [
    "We have over 100,000 observations near secondary eclipse (blue points). The rolling median is shown as the blue curve, where the secondary eclipse of the hot jupiter is clearly visible."
   ]
  },
  {
   "cell_type": "markdown",
   "metadata": {},
   "source": [
    "## Use **gradients** to find Maximum Likelihood Solution"
   ]
  },
  {
   "cell_type": "markdown",
   "metadata": {},
   "source": [
    "Let's instantiate our system and the `MaxLikeCartography` object, which wraps all the inference stuff we'll need:"
   ]
  },
  {
   "cell_type": "code",
   "execution_count": null,
   "metadata": {},
   "outputs": [],
   "source": [
    "star, planet, system = hd189.instantiate_HD189()\n",
    "mlg = hd189.MaxLikeCartography(data.time, data.y, data.yerr, system, planet, N = 1, jac = True)"
   ]
  },
  {
   "cell_type": "markdown",
   "metadata": {},
   "source": [
    "Let's compute the maximum likelihood map coefficients and luminosity using gradient descent:"
   ]
  },
  {
   "cell_type": "code",
   "execution_count": null,
   "metadata": {},
   "outputs": [],
   "source": [
    "mlg.compute()"
   ]
  },
  {
   "cell_type": "markdown",
   "metadata": {},
   "source": [
    "That took about 2 minutes. Let's look at the result:"
   ]
  },
  {
   "cell_type": "code",
   "execution_count": null,
   "metadata": {},
   "outputs": [],
   "source": [
    "mlg.res"
   ]
  },
  {
   "cell_type": "markdown",
   "metadata": {},
   "source": [
    "Our loss function `fun` (essentiall the chi-squared) looks good: it's quite small! The derivatives `jac` are also pretty small, so it looks like we found a minimum. The `x` parameters at the bottom are the coefficients of the $Y_{1,-1}$, $Y_{1,0}$, and $Y_{1,1}$ harmonics and the total luminosity of the planet in units of the star's luminosity. Let's plot our inferred model:"
   ]
  },
  {
   "cell_type": "code",
   "execution_count": null,
   "metadata": {},
   "outputs": [],
   "source": [
    "mlg.plot_ml_solution(data)"
   ]
  },
  {
   "cell_type": "markdown",
   "metadata": {},
   "source": [
    "## Run MCMC"
   ]
  },
  {
   "cell_type": "markdown",
   "metadata": {},
   "source": [
    "Now that we have a good model, let's initialize an MCMC run in the vicinity of these parameters so we can do some actual inference and get some uncertainties."
   ]
  },
  {
   "cell_type": "code",
   "execution_count": null,
   "metadata": {},
   "outputs": [],
   "source": [
    "chain_path = \"map_chain.npz\"\n",
    "grad = False\n",
    "N = 2           # Number of ML fits\n",
    "nsteps = 200    # Number of MCMC steps\n",
    "nwalk = 40      # Number of MCMC walkers\n",
    "std_ball = [0.01, 0.01, 0.01, 0.001]\n",
    "\n",
    "# Load HD189 secondary eclipse data\n",
    "data = hd189.EclipseData(plot = False)\n",
    "\n",
    "# If there are no saved chains in this path \n",
    "if not os.path.exists(chain_path):\n",
    "    \n",
    "    # Use above results \n",
    "    results = mlg\n",
    "    \n",
    "    # Initialize system *without gradients*\n",
    "    star, planet, system = hd189.instatiate_HD189(grad = False)\n",
    "    \n",
    "    # Initialize MCMC walkers *from maximum likelihood optimized solution*\n",
    "    p0 = emcee.utils.sample_ball(results.res.x, std_ball, nwalk)\n",
    "    \n",
    "    # Run MCMC\n",
    "    mcmc = hd189.MCMCCartography(data.time, data.y, data.yerr, system, planet, p0 = p0, \n",
    "                                 chain_path = chain_path)\n",
    "    mcmc.run_mcmc(nsteps=nsteps)\n",
    "    \n",
    "    mcmc.save_chain()\n",
    "        \n",
    "else:\n",
    "    \n",
    "    # Read-in saved chain\n",
    "    mcmc = hd189.MCMCCartography(data.time, data.y, data.yerr, system, planet, \n",
    "                                 chain_path = chain_path)"
   ]
  },
  {
   "cell_type": "markdown",
   "metadata": {},
   "source": [
    "In the example above we only took 200 steps. But if you were willing to wait several hours and take *ten thousand* steps (almost certainly overkill!), here's what the chains would look like:"
   ]
  },
  {
   "cell_type": "code",
   "execution_count": null,
   "metadata": {},
   "outputs": [],
   "source": [
    "mcmc.plot_trace()"
   ]
  },
  {
   "cell_type": "markdown",
   "metadata": {},
   "source": [
    "Here's the highest likelihood model for reference:"
   ]
  },
  {
   "cell_type": "code",
   "execution_count": null,
   "metadata": {},
   "outputs": [],
   "source": [
    "mcmc.plot_fit_full(data)"
   ]
  },
  {
   "cell_type": "markdown",
   "metadata": {},
   "source": [
    "Let's look at our posteriors! (Again, in the figure below we ran 10,000 steps, so we're applying a generous burn-in of 2,000 steps.)"
   ]
  },
  {
   "cell_type": "code",
   "execution_count": null,
   "metadata": {},
   "outputs": [],
   "source": [
    "mcmc.apply_burnin(nburn=2000)\n",
    "mcmc.get_hot_spot_samples()\n",
    "mcmc.plot_corner_with_map()"
   ]
  },
  {
   "cell_type": "markdown",
   "metadata": {},
   "source": [
    "Nice! Note that the last two columns of the corner plot are the inferred latitude and longitude of the hotspot. We've detected a statistically significant eastward shift in HD 1897833b!"
   ]
  }
 ],
 "metadata": {
  "kernelspec": {
   "display_name": "Python 3",
   "language": "python",
   "name": "python3"
  },
  "language_info": {
   "codemirror_mode": {
    "name": "ipython",
    "version": 3
   },
   "file_extension": ".py",
   "mimetype": "text/x-python",
   "name": "python",
   "nbconvert_exporter": "python",
   "pygments_lexer": "ipython3",
   "version": "3.6.5"
  }
 },
 "nbformat": 4,
 "nbformat_minor": 2
}
