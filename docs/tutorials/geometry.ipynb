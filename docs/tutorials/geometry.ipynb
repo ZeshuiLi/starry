{
 "cells": [
  {
   "cell_type": "markdown",
   "metadata": {},
   "source": [
    "# Maps and orbital geometry\n",
    "It can be confusing to think about a map of a planet on an eccentric, inclined orbit at an arbitrary angle on the sky. Let's go through some examples that illustrate how `starry` handles 3D geometry in planet orbits. Note that this tutorial applies only to maps of `starry.Planet` instances. For maps instantiated straight up with `starry.Map`, there's no shenanigans: what you see is what you get!"
   ]
  },
  {
   "cell_type": "markdown",
   "metadata": {},
   "source": [
    "## A simple example\n",
    "Let's illustrate how things can get tricky in 3D with a simple example. To begin, let's say we have a planet on a circular, edge-on orbit with a simple dipole map:\n",
    "```python\n",
    "planet.map[1, 0] = 0.5\n",
    "```\n",
    "corresponding to a surface map that looks like this:"
   ]
  },
  {
   "cell_type": "code",
   "execution_count": null,
   "metadata": {},
   "outputs": [],
   "source": [
    "import starry\n",
    "import numpy as np\n",
    "import matplotlib.pyplot as pl\n",
    "%matplotlib inline\n",
    "map = starry.Map()\n",
    "map[1, 0] = 0.5\n",
    "map.show()"
   ]
  },
  {
   "cell_type": "markdown",
   "metadata": {},
   "source": [
    "Let's suppose further that the planet is rotating with $P_{rot} = P_{orb}$ and zero obliquity (i.e., what you'd expect for a hotspot that tracks the position of the star). In this case, the axis of rotation is the vector $\\hat{y} = (0, 1, 0)$. Here's what the planet looks like on the sky over the course of one orbit:"
   ]
  },
  {
   "cell_type": "code",
   "execution_count": null,
   "metadata": {},
   "outputs": [],
   "source": [
    "%run orbit_edgeon.py"
   ]
  },
  {
   "cell_type": "markdown",
   "metadata": {},
   "source": [
    "No surprises here. During transit, the observer sees the full night side of the planet. During secondary eclipse, the observer sees the full day side. And at quadrature, the planet is half-illuminated."
   ]
  },
  {
   "cell_type": "markdown",
   "metadata": {},
   "source": [
    "**But here's where things could get tricky.** \n",
    "\n",
    "Suppose now that you have the same planet on an orbit that is inclined relative to the observer at $i = 60^\\circ$. Suppose further that the line of nodes -- where the orbital plane intersects the reference plane (the sky plane in our case) -- is also misaligned with the $x$ axis at $\\Omega = 30^\\circ$. If we were to keep the exact same map -- the same map coefficients, and the same rotational axis relative to the sky plane -- this is what we would see:"
   ]
  },
  {
   "cell_type": "code",
   "execution_count": null,
   "metadata": {},
   "outputs": [],
   "source": [
    "%run orbit_bad.py"
   ]
  },
  {
   "cell_type": "markdown",
   "metadata": {},
   "source": [
    "If you look closely, this figure doesn't make any sense! The planet's dipole is no longer facing the star over the course of the orbit, and the rotational axis is no longer perpendicular to the orbital plane. That's because we kept the same map and the same rotational axis relative to the **sky plane**. But that's silly -- the planet's properties shouldn't depend on the vantage point of the observer. Instead, when we tell `starry` that the planet's map is\n",
    "```python\n",
    "planet[1, 0] = 0.5\n",
    "```\n",
    "and that the axis of rotation is\n",
    "```\n",
    "planet.axis = [0, 1, 0]\n",
    "```\n",
    "what we probably mean is that this is what the planet looks like **in the orbital plane.** Specifically, we want the planet to look like this **when the full dayside is visible**. So this is what we expect to see:"
   ]
  },
  {
   "cell_type": "code",
   "execution_count": null,
   "metadata": {},
   "outputs": [],
   "source": [
    "%run orbit_good.py"
   ]
  },
  {
   "cell_type": "markdown",
   "metadata": {},
   "source": [
    "That's **much** better. You can see that the hotspot always faces the star, and the axis of rotation is perpendicular to the orbital plane.\n",
    "\n",
    "**Since it's easier to think about maps and rotations in the plane of the orbit, this second example is how** `starry` **actually works.** When you specify a map, that's what the planet looks like in its orbital plane, as if you were viewing the orbit edge-on, with the planet's full dayside visible (i.e., during secondary eclipse, if the star weren't blocking your view). When you specify an axis of rotation, that axis is always relative to the planet's orbital plane, meaning $\\hat{y}$ is the vector perpendicular to the orbit, pointing \"up\". That's the default axis if none is provided."
   ]
  },
  {
   "cell_type": "markdown",
   "metadata": {},
   "source": [
    "## More examples\n",
    "Let's look at some actual light curves now to see how `starry` behaves for different orbital orientations. To begin, let's instantiate a generic one-planet system with a very close-in, bright, tidally-locked planet:"
   ]
  },
  {
   "cell_type": "code",
   "execution_count": null,
   "metadata": {},
   "outputs": [],
   "source": [
    "star = starry.kepler.Primary()\n",
    "star[1] = 0.4\n",
    "star[2] = 0.26\n",
    "planet = starry.kepler.Secondary()\n",
    "planet.L = 5e-3\n",
    "planet.prot = 1\n",
    "planet.porb = 1\n",
    "planet.a = 5\n",
    "system = starry.kepler.System(star, planet)\n",
    "time = np.linspace(-0.1, 1.1, 100000)"
   ]
  },
  {
   "cell_type": "markdown",
   "metadata": {},
   "source": [
    "## Edge-on circular orbit, planet with dipole map and centered hotspot"
   ]
  },
  {
   "cell_type": "markdown",
   "metadata": {},
   "source": [
    "First off, the simplest possible case: an edge-on, circular orbit of a planet with a dipole map whose hotspot always points toward the star. Let's compute and plot the light curve over one orbit:"
   ]
  },
  {
   "cell_type": "code",
   "execution_count": null,
   "metadata": {},
   "outputs": [],
   "source": [
    "planet.inc = 90\n",
    "planet.ecc = 0\n",
    "planet[1, 0] = 0.5\n",
    "system.compute(time)\n",
    "fig, ax = pl.subplots(1, figsize=(16, 4))\n",
    "ax.plot(time, system.lightcurve);\n",
    "ax.set_xlabel('Time [days]', fontsize=16);\n",
    "ax.set_ylabel('System flux', fontsize=16);"
   ]
  },
  {
   "cell_type": "markdown",
   "metadata": {},
   "source": [
    "This is exactly what we might expect: two transits at $t = 0$ and $t = 1$, a secondary eclipse at $t = 0.5$, and a phase curve that peaks during secondary eclipse. But it's worth being explicit about what's actually going on. As we mentioned above, when we instantiate a `Planet` map, we are telling `starry` that **this is what the planet looks like during secondary eclipse.** In this specific case, we told `starry` that our map looks like this:"
   ]
  },
  {
   "cell_type": "code",
   "execution_count": null,
   "metadata": {},
   "outputs": [],
   "source": [
    "planet.show()"
   ]
  },
  {
   "cell_type": "markdown",
   "metadata": {},
   "source": [
    "Since the map rotates around with the planet, the distinction we made above is necessary. **The coefficients of the map correspond to those of the map seen during secondary eclipse**, when the full dayside of the planet is (or would be, if the star weren't in the way) visible to the observer."
   ]
  },
  {
   "cell_type": "markdown",
   "metadata": {},
   "source": [
    "## Eccentric orbits"
   ]
  },
  {
   "cell_type": "markdown",
   "metadata": {},
   "source": [
    "We can verify that this is still the case regardless of the eccentricity vector of the orbit:"
   ]
  },
  {
   "cell_type": "code",
   "execution_count": null,
   "metadata": {},
   "outputs": [],
   "source": [
    "planet.inc = 90\n",
    "planet.ecc = 0.5\n",
    "planet.w = 30\n",
    "planet[1, 0] = 0.5\n",
    "system.compute(time)\n",
    "fig, ax = pl.subplots(1, figsize=(16, 4))\n",
    "ax.plot(time, system.lightcurve);\n",
    "ax.set_xlabel('Time [days]', fontsize=16);\n",
    "ax.set_ylabel('System flux', fontsize=16);"
   ]
  },
  {
   "cell_type": "markdown",
   "metadata": {},
   "source": [
    "Secondary eclipse no longer occurs at the same time or mean longitude, but `starry` handles all the necessary rotations behind the scenes. When you specify a map, that is what you'll get when the planet is behind the star!"
   ]
  },
  {
   "cell_type": "markdown",
   "metadata": {},
   "source": [
    "## Inclined orbits"
   ]
  },
  {
   "cell_type": "markdown",
   "metadata": {},
   "source": [
    "Now what about inclined orbits, for which there may be no secondary eclipse? **Same thing**: we still specify the map as an observer would see it when looking at the system edge-on."
   ]
  },
  {
   "cell_type": "code",
   "execution_count": null,
   "metadata": {},
   "outputs": [],
   "source": [
    "fig, ax = pl.subplots(1, figsize=(16, 4))\n",
    "planet.ecc = 0\n",
    "planet[1, 0] = 0.5\n",
    "inclinations = [0, 10, 30, 45, 60, 90]\n",
    "for inc in inclinations:\n",
    "    planet.inc = inc\n",
    "    system.compute(time)\n",
    "    ax.plot(time, planet.lightcurve, label=inc);\n",
    "ax.set_xlabel('Time [days]', fontsize=16);\n",
    "ax.set_ylabel('System flux', fontsize=16);\n",
    "ax.legend(title='inclination (deg)', ncol=2);"
   ]
  },
  {
   "cell_type": "markdown",
   "metadata": {},
   "source": [
    "This time I only plotted the *planet's* flux (to get rid of the transits and zoom in on the phase curves). As expected, as the inclination is reduced and the orbit becomes ever more face-on, the amplitude of the planet's phase curve decreases. That's because in all cases, the planet's dipole is always facing the star. Here's what the planet looks like to us, on the *sky* plane, at a mean anomaly $f = \\frac{3\\pi}{2} - \\omega$ (corresponding to secondary eclipse if the orbit is edge on):"
   ]
  },
  {
   "cell_type": "code",
   "execution_count": null,
   "metadata": {},
   "outputs": [],
   "source": [
    "res = 300\n",
    "fig, ax = pl.subplots(1, 6, figsize=(16, 4))\n",
    "x, y = np.meshgrid(np.linspace(-1, 1, res), np.linspace(-1, 1, res))\n",
    "planet.axis = [1, 0, 0]\n",
    "for i in range(6):\n",
    "    I = [planet(theta=90-inclinations[i], x=x[j], y=y[j]) for j in range(res)]\n",
    "    ax[i].imshow(I, cmap='plasma', origin='lower')\n",
    "    ax[i].axis('off')\n",
    "    ax[i].set_title(\"$i = %d^\\circ$\" % inclinations[i])"
   ]
  },
  {
   "cell_type": "markdown",
   "metadata": {},
   "source": [
    "## Rotation in the sky plane"
   ]
  },
  {
   "cell_type": "markdown",
   "metadata": {},
   "source": [
    "Finally, for the sake of completeness, what about cases where the longitude of ascending node $\\Omega \\ne 0$? For an edge-on system, this is the angle of rotation of the orbital plane on the sky. Let's see what happens when we specify the same dipole map as before, but vary the longitude of ascending node:"
   ]
  },
  {
   "cell_type": "code",
   "execution_count": null,
   "metadata": {},
   "outputs": [],
   "source": [
    "fig, ax = pl.subplots(2, figsize=(16, 8))\n",
    "fig.subplots_adjust(hspace=0.5)\n",
    "planet.inc = 90\n",
    "planet.ecc = 0\n",
    "planet[1, 0] = 0.5\n",
    "Omegas = [0, 30, 45, 60, 90]\n",
    "for Omega in Omegas:\n",
    "    planet.Omega = Omega\n",
    "    system.compute(time)\n",
    "    ax[0].plot(time, planet.lightcurve, label=Omega);\n",
    "    ax[1].plot(planet.X, planet.Y, label=Omega)\n",
    "ax[0].set_xlabel('Time [days]', fontsize=16);\n",
    "ax[0].set_ylabel('System flux', fontsize=16);\n",
    "ax[0].legend(title='Omega (deg)', ncol=2);\n",
    "ax[1].set_ylim(-5, 5);\n",
    "ax[1].set_xlim(-15, 15);\n",
    "ax[1].axis('off');"
   ]
  },
  {
   "cell_type": "markdown",
   "metadata": {},
   "source": [
    "All the light curves are the same, which again is exactly what you'd expect. The longitude of ascending node is not something you can typically probe from a light curve (unless, maybe, with [planet-planet occultations](http://adsabs.harvard.edu/abs/2017ApJ...851...94L))! What this means is that the planet map coefficients are specified as if the planet were seen edge on at secondary eclipse with $\\Omega = 0$."
   ]
  },
  {
   "cell_type": "markdown",
   "metadata": {},
   "source": [
    "## Summary"
   ]
  },
  {
   "cell_type": "markdown",
   "metadata": {},
   "source": [
    "Long story short, here's all you need to remember: when you specify the map of a `starry.kepler.Secondary` instance, you are specifying the coefficients of the map you would see if the system were viewed\n",
    "\n",
    ">1. Edge-on\n",
    ">2. With the secondary at occultation (i.e., directly behind the primary)\n",
    ">3. With the orbital plane parallel to the $xy$ axis (that is, $\\Omega=0$)\n",
    "\n",
    "Similarly, the secondary's rotation axis is specified in the same frame."
   ]
  },
  {
   "cell_type": "code",
   "execution_count": null,
   "metadata": {},
   "outputs": [],
   "source": []
  }
 ],
 "metadata": {
  "kernelspec": {
   "display_name": "Python 3",
   "language": "python",
   "name": "python3"
  },
  "language_info": {
   "codemirror_mode": {
    "name": "ipython",
    "version": 3
   },
   "file_extension": ".py",
   "mimetype": "text/x-python",
   "name": "python",
   "nbconvert_exporter": "python",
   "pygments_lexer": "ipython3",
   "version": "3.6.5"
  }
 },
 "nbformat": 4,
 "nbformat_minor": 2
}
