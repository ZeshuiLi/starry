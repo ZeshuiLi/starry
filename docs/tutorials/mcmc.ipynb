{
 "cells": [
  {
   "cell_type": "markdown",
   "metadata": {},
   "source": [
    "# Quick MCMC tutorial\n",
    "Here we'll show how to run a simple Markov Chain Monte Carlo simulation to infer a planet's surface map from a dataset containing its phase curve and its secondary eclipse. For simplicity, we assume the orbital parameters and the size of the planet are known **exactly**. The map is composed of first-order spherical harmonics and is therefore a simple dipole map. The luminosity of the planet is assumed to be known, so the $Y_{0,0}$ coefficient is fixed at unity (this is **starry** default behavior for **Planet** instances) and we will solve for the three first order coefficients: $Y_{1,-1}$, $Y_{1,0}$, and $Y_{1,1}$."
   ]
  },
  {
   "cell_type": "markdown",
   "metadata": {},
   "source": [
    "Let's begin by importing some stuff:"
   ]
  },
  {
   "cell_type": "code",
   "execution_count": null,
   "metadata": {},
   "outputs": [],
   "source": [
    "from starry.kepler import Primary, Secondary, System\n",
    "import emcee\n",
    "import numpy as np\n",
    "import matplotlib.pyplot as pl\n",
    "from tqdm import tqdm\n",
    "import corner\n",
    "np.random.seed(1234)"
   ]
  },
  {
   "cell_type": "code",
   "execution_count": null,
   "metadata": {
    "nbsphinx": "hidden"
   },
   "outputs": [],
   "source": [
    "%matplotlib inline"
   ]
  },
  {
   "cell_type": "markdown",
   "metadata": {},
   "source": [
    "Let's define some functions to easily generate and set the planet map coefficients:"
   ]
  },
  {
   "cell_type": "code",
   "execution_count": null,
   "metadata": {},
   "outputs": [],
   "source": [
    "def set_coeffs(p, planet):\n",
    "    \"\"\"Set the coefficients of the planet map.\"\"\"\n",
    "    planet[1, :] = p\n",
    "\n",
    "\n",
    "def gen_coeffs():\n",
    "    \"\"\"Generate random initial conditions.\"\"\"\n",
    "    y1m1 = np.random.randn()\n",
    "    y10 = np.random.randn()\n",
    "    y11 = np.random.randn()\n",
    "    return [y1m1, y10, y11]"
   ]
  },
  {
   "cell_type": "markdown",
   "metadata": {},
   "source": [
    "Here we define our log probability and log prior for use in the MCMC run. These are super simple: we're essentially computing the chi squared metric for our model:"
   ]
  },
  {
   "cell_type": "code",
   "execution_count": null,
   "metadata": {},
   "outputs": [],
   "source": [
    "def lnprior(p):\n",
    "    \"\"\"Loosely informative log prior probability.\"\"\"\n",
    "    if np.any(p < -5) or np.any(p > 5):\n",
    "        return -np.inf\n",
    "    else:\n",
    "        return 0\n",
    "\n",
    "\n",
    "def lnlike(p, time, y, yerr, system, planet):\n",
    "    \"\"\"Log likelihood.\"\"\"\n",
    "    ll = lnprior(p)\n",
    "    if np.isinf(ll):\n",
    "        return ll\n",
    "\n",
    "    # Set the coeffs and compute the flux\n",
    "    set_coeffs(p, planet)\n",
    "    system.compute(time)\n",
    "\n",
    "    # Compute the chi-squared\n",
    "    chisq = np.sum((y - system.lightcurve) ** 2) / yerr ** 2\n",
    "    ll += -0.5 * chisq\n",
    "\n",
    "    return ll"
   ]
  },
  {
   "cell_type": "markdown",
   "metadata": {},
   "source": [
    "Now, some code to generate a synthetic light curve. Note that we add extra resolution at secondary eclipse ingress and egress, since that's where most of the information is!"
   ]
  },
  {
   "cell_type": "code",
   "execution_count": null,
   "metadata": {},
   "outputs": [],
   "source": [
    "def generate(x, tstart=1, tend=5.3, npts=100, ning=100, neg=100):\n",
    "    \"\"\"Generate a synthetic light curve.\"\"\"\n",
    "    # Instantiate the star (params known exactly)\n",
    "    star = Primary()\n",
    "    star[1] = 0.4\n",
    "    star[2] = 0.26\n",
    "\n",
    "    # Instantiate the planet\n",
    "    planet = Secondary(lmax=1)\n",
    "    planet.lambda0 = 270\n",
    "    planet.r = 0.0916\n",
    "    planet.L = 5e-3\n",
    "    planet.inc = 87\n",
    "    planet.a = 11.12799\n",
    "    planet.prot = 4.3\n",
    "    planet.porb = 4.3\n",
    "    planet.tref = 2\n",
    "\n",
    "    # Instantiate the system\n",
    "    system = System(star, planet)\n",
    "\n",
    "    # Set the map coeffs\n",
    "    set_coeffs(x, planet)\n",
    "\n",
    "    # Time array w/ extra resolution at ingress/egress\n",
    "    ingress = (1.94, 1.96)\n",
    "    egress = (2.04, 2.06)\n",
    "    time = np.linspace(tstart, tend, npts)\n",
    "    if ingress is not None:\n",
    "        t = np.linspace(ingress[0], ingress[1], ning)\n",
    "        time = np.append(time, t)\n",
    "    if egress is not None:\n",
    "        t = np.linspace(egress[0], egress[1], neg)\n",
    "        time = np.append(time, t)\n",
    "    time = time[np.argsort(time)]\n",
    "\n",
    "    # Compute and plot the starry flux\n",
    "    system.compute(time)\n",
    "    flux = np.array(system.lightcurve)\n",
    "\n",
    "    # Noise it\n",
    "    yerr = 1e-4 * np.nanmedian(flux)\n",
    "    y = flux + yerr * np.random.randn(len(flux))\n",
    "\n",
    "    # Compute the flux at hi res for plotting\n",
    "    time_hires = np.linspace(tstart, tend, npts * 100)\n",
    "    system.compute(time_hires)\n",
    "    flux_hires = np.array(system.lightcurve)\n",
    "    \n",
    "    return time, y, yerr, star, planet, system, time_hires, flux_hires"
   ]
  },
  {
   "cell_type": "markdown",
   "metadata": {},
   "source": [
    "Finally, let's define the **true** values for the map coefficients, which we will try to infer:"
   ]
  },
  {
   "cell_type": "code",
   "execution_count": null,
   "metadata": {},
   "outputs": [],
   "source": [
    "# These are the values we're going to try to recover\n",
    "y1m1 = 0.20\n",
    "y10 = 0.30\n",
    "y11 = 0.20\n",
    "truth = np.array([y1m1, y10, y11])\n",
    "labels = np.array([r\"$Y_{1,-1}$\", r\"$Y_{1,0}$\", r\"$Y_{1,1}$\"])"
   ]
  },
  {
   "cell_type": "markdown",
   "metadata": {},
   "source": [
    "Generate the data and plot it, alongside our initial model guesses for the MCMC chain:"
   ]
  },
  {
   "cell_type": "code",
   "execution_count": null,
   "metadata": {},
   "outputs": [],
   "source": [
    "# Generate synthetic data\n",
    "time, y, yerr, star, planet, system, time_hires, flux_hires = generate(truth)\n",
    "\n",
    "# Set the initial conditions\n",
    "nburn = 500\n",
    "nsteps = 1000\n",
    "nwalk = 30\n",
    "ndim = len(truth)\n",
    "p0 = [gen_coeffs() for k in range(nwalk)]\n",
    "\n",
    "# Plot the true model and our noised data\n",
    "fig, ax = pl.subplots(1, figsize=(16, 4))\n",
    "norm = np.nanmedian(flux_hires)\n",
    "ax.plot(time_hires, flux_hires / norm, '-', color='C0')\n",
    "ax.plot(time, y / norm, '.', color='C1', alpha=0.5)\n",
    "ax.set_xlabel('Time [days]', fontsize=14, fontweight='bold');\n",
    "ax.set_ylabel('Normalized Flux', fontsize=14, fontweight='bold');"
   ]
  },
  {
   "cell_type": "markdown",
   "metadata": {},
   "source": [
    "Now, on to the good stuff!"
   ]
  },
  {
   "cell_type": "markdown",
   "metadata": {},
   "source": [
    "## Run the MCMC chain"
   ]
  },
  {
   "cell_type": "code",
   "execution_count": null,
   "metadata": {},
   "outputs": [],
   "source": [
    "# Run our MCMC chain\n",
    "sampler = emcee.EnsembleSampler(nwalk, ndim, lnlike,\n",
    "                                args=[time, y, yerr, system, planet])\n",
    "for i in tqdm(sampler.sample(p0, iterations=nsteps), total=nsteps):\n",
    "    pass\n",
    "\n",
    "# Get the maximum likelihood sample\n",
    "maxlike = sampler.flatchain[np.argmax(sampler.flatlnprobability)]"
   ]
  },
  {
   "cell_type": "markdown",
   "metadata": {},
   "source": [
    "## Plot the chains\n",
    "\n",
    "They look great! The blue lines are the **true** values."
   ]
  },
  {
   "cell_type": "code",
   "execution_count": null,
   "metadata": {},
   "outputs": [],
   "source": [
    "# Plot the chains w/out the burn-in\n",
    "fig = pl.figure(figsize=(16, 8))\n",
    "fig.subplots_adjust(bottom=0.05, top=0.95, hspace=0.1)\n",
    "axc = [pl.subplot2grid((ndim, 10), (n, 0), colspan=8, rowspan=1)\n",
    "       for n in range(ndim)]\n",
    "axh = [pl.subplot2grid((ndim, 10), (n, 8), colspan=2,\n",
    "                       rowspan=1, sharey=axc[n]) for n in range(ndim)]\n",
    "alpha = 0.3\n",
    "for i, label in enumerate(labels):\n",
    "    for k in range(nwalk):\n",
    "        axc[i].plot(sampler.chain[k, nburn:, i], alpha=alpha, lw=1)\n",
    "        axc[i].set_ylabel(label, fontsize=24)\n",
    "    axh[i].hist(sampler.chain[:, nburn:, i].flatten(), bins=30,\n",
    "                orientation=\"horizontal\", histtype='step',\n",
    "                fill=False, color='k', lw=1)\n",
    "    pl.setp(axh[i].get_yticklabels(), visible=False)\n",
    "    pl.setp(axh[i].get_xticklabels(), visible=False)\n",
    "    axh[i].axhline(truth[i], color='C0')"
   ]
  },
  {
   "cell_type": "markdown",
   "metadata": {},
   "source": [
    "## Plot the posteriors\n",
    "\n",
    "Again, the blue lines are the true values. Our posteriors are nice and gaussian, and it looks like we nailed the solution!"
   ]
  },
  {
   "cell_type": "code",
   "execution_count": null,
   "metadata": {},
   "outputs": [],
   "source": [
    "# Plot the corner plot\n",
    "samples = sampler.chain[:, nburn:, :].reshape(nwalk * (nsteps - nburn), ndim)\n",
    "fig = corner.corner(samples, labels=labels, bins=50, truths=truth);\n",
    "for ax in fig.axes:\n",
    "    ax.xaxis.label.set_fontsize(20)\n",
    "    ax.yaxis.label.set_fontsize(20)"
   ]
  },
  {
   "cell_type": "markdown",
   "metadata": {},
   "source": [
    "## Plot the maximum likelihood map\n",
    "\n",
    "We successfully mapped this planet's dipole :)"
   ]
  },
  {
   "cell_type": "code",
   "execution_count": null,
   "metadata": {},
   "outputs": [],
   "source": [
    "# Plot the original map and the maximum likelihood map\n",
    "fig, ax = pl.subplots(1, 2, figsize=(16, 8))\n",
    "x, y = np.meshgrid(np.linspace(-1, 1, 300), np.linspace(-1, 1, 300))\n",
    "set_coeffs(truth, planet)\n",
    "img = [planet(x=x[j], y=y[j]) for j in range(300)]\n",
    "ax[0].imshow(img, origin=\"lower\",\n",
    "             interpolation=\"none\", cmap=\"plasma\",\n",
    "             extent=(-1, 1, -1, 1))\n",
    "ax[0].contour(img, origin=\"lower\",\n",
    "              extent=(-1, 1, -1, 1),\n",
    "              colors='k', linewidths=1)\n",
    "ax[0].set_frame_on(False)\n",
    "ax[0].set_xticks([])\n",
    "ax[0].set_yticks([])\n",
    "ax[0].set_title(\"true map\", fontsize=24, fontweight='bold');\n",
    "set_coeffs(maxlike, planet)\n",
    "img = [planet(x=x[j], y=y[j]) for j in range(300)]\n",
    "ax[1].imshow(img, origin=\"lower\",\n",
    "             interpolation=\"none\", cmap=\"plasma\",\n",
    "             extent=(-1, 1, -1, 1))\n",
    "ax[1].contour(img, origin=\"lower\",\n",
    "              extent=(-1, 1, -1, 1),\n",
    "              colors='k', linewidths=1)\n",
    "ax[1].set_frame_on(False)\n",
    "ax[1].set_xticks([])\n",
    "ax[1].set_yticks([])\n",
    "ax[1].set_title(\"max likelihood map\", fontsize=24, fontweight='bold');"
   ]
  }
 ],
 "metadata": {
  "kernelspec": {
   "display_name": "Python 3",
   "language": "python",
   "name": "python3"
  },
  "language_info": {
   "codemirror_mode": {
    "name": "ipython",
    "version": 3
   },
   "file_extension": ".py",
   "mimetype": "text/x-python",
   "name": "python",
   "nbconvert_exporter": "python",
   "pygments_lexer": "ipython3",
   "version": "3.6.5"
  }
 },
 "nbformat": 4,
 "nbformat_minor": 2
}
