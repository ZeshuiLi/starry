{
 "cells": [
  {
   "cell_type": "markdown",
   "metadata": {},
   "source": [
    "# Limb darkening speed tests\n",
    "\n",
    "Here we reproduce the speed test figures in Agol & Luger (2018) for pure limb-darkened maps."
   ]
  },
  {
   "cell_type": "code",
   "execution_count": null,
   "metadata": {},
   "outputs": [],
   "source": [
    "import starry\n",
    "import numpy as np\n",
    "import time\n",
    "import matplotlib.pyplot as pl\n",
    "%matplotlib inline"
   ]
  },
  {
   "cell_type": "markdown",
   "metadata": {},
   "source": [
    "First, let's see how the run time scales with the number of data points for different degrees of limb darkening:"
   ]
  },
  {
   "cell_type": "code",
   "execution_count": null,
   "metadata": {},
   "outputs": [],
   "source": [
    "l = [1, 2, 3, 5, 8, 13, 21, 34, 55, 89, 144]\n",
    "npts = np.array(np.logspace(2, 5, 7), dtype=int)\n",
    "t = np.zeros((len(npts), len(l)))\n",
    "for i, lmax in enumerate(l):\n",
    "    map = starry.Map(lmax)\n",
    "    map[:] = np.random.randn(lmax)\n",
    "    for j, n in enumerate(npts):\n",
    "        ro = 0.1\n",
    "        xo = np.linspace(-1.2, 1.2, n)\n",
    "        tstart = time.time()\n",
    "        map.flux(xo=xo, ro=ro, gradient=True)\n",
    "        t[j, i] = time.time() - tstart"
   ]
  },
  {
   "cell_type": "code",
   "execution_count": null,
   "metadata": {},
   "outputs": [],
   "source": [
    "fig, ax = pl.subplots(1, figsize=(8, 6))\n",
    "cmap = pl.get_cmap(\"plasma\")\n",
    "for ti, lmax, i in zip(t.transpose(), l, range(len(l))):\n",
    "    ax.plot(npts, ti, 'o', color=cmap((i + 1) / (1.25 * len(l))), label=\"n: %s\" % lmax, ms=8)\n",
    "    ax.plot(npts, ti, '-', color=cmap((i + 1) / (1.25 * len(l))), alpha=0.5, lw=3)\n",
    "ax.set_yscale('log')\n",
    "ax.set_xscale('log')\n",
    "ax.legend(fontsize=8)\n",
    "ax.set_xlabel('Number of points', fontsize=16)\n",
    "ax.set_ylabel('Timing [sec]', fontsize=16)\n",
    "ax.set_ylim(4e-5, 9e0)\n",
    "for tick in ax.xaxis.get_major_ticks() + ax.yaxis.get_major_ticks():\n",
    "    tick.label.set_fontsize(16)"
   ]
  },
  {
   "cell_type": "markdown",
   "metadata": {},
   "source": [
    "Next, let's look at the scaling with limb darkening degree for a fixed number of data points:"
   ]
  },
  {
   "cell_type": "code",
   "execution_count": null,
   "metadata": {},
   "outputs": [],
   "source": [
    "l = np.logspace(np.log10(1), np.log10(144), 20)\n",
    "l = np.array(l, dtype=int)\n",
    "l = np.array(list(sorted(set(l))))\n",
    "t = np.zeros(len(l))\n",
    "npts = 1000\n",
    "ntimes = 100\n",
    "ro = 0.1\n",
    "xo = np.linspace(-1.2, 1.2, npts)\n",
    "for i, lmax in enumerate(l):\n",
    "    map = starry.Map(lmax)\n",
    "    map[:] = np.random.randn(lmax)\n",
    "    tstart = time.time()\n",
    "    for j in range(ntimes):\n",
    "        map.flux(xo=xo, ro=ro, gradient=True)\n",
    "    t[i] = (time.time() - tstart) / ntimes"
   ]
  },
  {
   "cell_type": "code",
   "execution_count": null,
   "metadata": {},
   "outputs": [],
   "source": [
    "fig, ax = pl.subplots(1, figsize=(8, 6))\n",
    "ax.plot(l, t / t[0], 'o', color='C0', ms=8)\n",
    "ax.plot(l, t / t[0], '-', color='C0', lw=3, label='Measured')\n",
    "ax.plot(l, l ** 0.237, '--', lw=2, color='C1', label=r'$n^{0.2}$')\n",
    "ax.plot(l, t[-1] / t[0] * (l / l[-1]) ** 2, '-.', lw=2, color='C1', label=r'$n^2$')\n",
    "ax.set_xlim(1, 144)\n",
    "ax.set_ylim(0.7, 2e2)\n",
    "ax.set_xscale('log')\n",
    "ax.set_yscale('log')\n",
    "ax.set_xlabel('Number of coefficients', fontsize=16)\n",
    "ax.set_ylabel('Relative timing', fontsize=16)\n",
    "ax.legend(loc='upper left', fontsize=16)\n",
    "for tick in ax.xaxis.get_major_ticks() + ax.yaxis.get_major_ticks():\n",
    "    tick.label.set_fontsize(16)"
   ]
  }
 ],
 "metadata": {
  "kernelspec": {
   "display_name": "Python 3",
   "language": "python",
   "name": "python3"
  },
  "language_info": {
   "codemirror_mode": {
    "name": "ipython",
    "version": 3
   },
   "file_extension": ".py",
   "mimetype": "text/x-python",
   "name": "python",
   "nbconvert_exporter": "python",
   "pygments_lexer": "ipython3",
   "version": "3.6.5"
  }
 },
 "nbformat": 4,
 "nbformat_minor": 2
}
