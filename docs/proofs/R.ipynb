{
 "cells": [
  {
   "cell_type": "markdown",
   "metadata": {},
   "source": [
    "# Rotation matrix for spherical harmonics\n",
    "\n",
    "#### Code to compute and validate the rotation matrix for spherical harmonics"
   ]
  },
  {
   "cell_type": "markdown",
   "metadata": {},
   "source": [
    "We begin by importing some stuff and defining our functions:"
   ]
  },
  {
   "cell_type": "code",
   "execution_count": null,
   "metadata": {},
   "outputs": [],
   "source": [
    "import numpy as np\n",
    "from IPython.display import display, Math\n",
    "import sympy\n",
    "from sympy import *\n",
    "from sympy.functions.special.tensor_functions import KroneckerDelta\n",
    "import starry\n",
    "import matplotlib\n",
    "%matplotlib inline\n",
    "\n",
    "# Initialize the session\n",
    "init_session(quiet=True)\n",
    "\n",
    "# I am using the dev version of sympy\n",
    "print(\"Using sympy version\", sympy.__version__)\n",
    "\n",
    "# Define our symbols\n",
    "l, m, n, alpha, beta, gamma, u1, u2, u3, theta = symbols('l m n alpha beta gamma u1 u2 u3 theta')"
   ]
  },
  {
   "cell_type": "code",
   "execution_count": null,
   "metadata": {},
   "outputs": [],
   "source": [
    "def Dmn(l, m, n, alpha, beta, gamma):\n",
    "    \"\"\"Compute the (m, n) term of the Wigner D matrix.\"\"\"\n",
    "    sumterm = 0\n",
    "    # Expression diverges when beta = 0\n",
    "    if beta == 0:\n",
    "        beta = 1e-16\n",
    "    for k in range(l + m + 1):\n",
    "        sumterm += (-1) ** k * cos(beta / 2) ** (2 * l + m - n - 2 * k) * \\\n",
    "                   sin(beta / 2) ** (-m + n + 2 * k) / \\\n",
    "                   (factorial(k) * factorial(l + m - k) * factorial(l - n - k) * factorial(n - m + k))\n",
    "    return sumterm * exp(-I * (alpha * n + gamma * m)) * (-1) ** (n + m) * \\\n",
    "           sqrt(factorial(l - m) * factorial(l + m) * factorial(l - n) * factorial(l + n))"
   ]
  },
  {
   "cell_type": "code",
   "execution_count": null,
   "metadata": {},
   "outputs": [],
   "source": [
    "def D(l, alpha, beta, gamma):\n",
    "    \"\"\"Compute the Wigner D matrix.\"\"\"\n",
    "    res = zeros(2 * l + 1, 2 * l + 1)\n",
    "    for m in range(-l, l + 1):\n",
    "        for n in range(-l, l + 1):\n",
    "            res[m + l, n + l] = Dmn(l, m, n, alpha, beta, gamma)\n",
    "    return res\n",
    "\n",
    "# Print it for l = 1\n",
    "D(1, alpha, beta, gamma)"
   ]
  },
  {
   "cell_type": "code",
   "execution_count": null,
   "metadata": {},
   "outputs": [],
   "source": [
    "def Umn(l, m, n):\n",
    "    \"\"\"Compute the (m, n) term of the transformation matrix from complex to real Ylms.\"\"\"\n",
    "    if n < 0:\n",
    "        term1 = I\n",
    "    elif n == 0:\n",
    "        term1 = sqrt(2) / 2\n",
    "    else:\n",
    "        term1 = 1\n",
    "    if (m > 0) and (n < 0) and (n % 2 == 0):\n",
    "        term2 = -1\n",
    "    elif (m > 0) and (n > 0) and (n % 2 != 0):\n",
    "        term2 = -1\n",
    "    else:\n",
    "        term2 = 1\n",
    "    return term1 * term2 * 1 / sqrt(2) * (KroneckerDelta(m, n) + KroneckerDelta(m, -n))"
   ]
  },
  {
   "cell_type": "code",
   "execution_count": null,
   "metadata": {},
   "outputs": [],
   "source": [
    "def U(l):\n",
    "    \"\"\"Compute the U transformation matrix.\"\"\"\n",
    "    res = zeros(2 * l + 1, 2 * l + 1)\n",
    "    for m in range(-l, l + 1):\n",
    "        for n in range(-l, l + 1):\n",
    "            res[m + l, n+ l] = Umn(l, m, n)\n",
    "    return res\n",
    "\n",
    "# Print it for l = 1\n",
    "U(1)"
   ]
  },
  {
   "cell_type": "code",
   "execution_count": null,
   "metadata": {},
   "outputs": [],
   "source": [
    "def REuler(l, alpha, beta, gamma):\n",
    "    \"\"\"Return the rotation matrix for a single degree `l`.\"\"\"\n",
    "    res = zeros(2 * l + 1, 2 * l + 1)\n",
    "    if l == 0:\n",
    "        res[0, 0] = 1\n",
    "        return res\n",
    "    foo = re(U(l).inv() * D(l, alpha, beta, gamma) * U(l))\n",
    "    for m in range(2 * l + 1):\n",
    "        for n in range(2 * l + 1):\n",
    "            if abs(foo[m, n]) < 1e-15:\n",
    "                res[m, n] = 0\n",
    "            else:\n",
    "                res[m, n] = foo[m, n]\n",
    "    return res"
   ]
  },
  {
   "cell_type": "markdown",
   "metadata": {},
   "source": [
    "To make things easier to visualize, let's convert our rotation matrix to the axis-angle formalism."
   ]
  },
  {
   "cell_type": "code",
   "execution_count": null,
   "metadata": {},
   "outputs": [],
   "source": [
    "def RAxisAngle(l, u1, u2, u3, theta):\n",
    "    \"\"\"Axis-angle rotation matrix.\"\"\"\n",
    "    # Numerical tolerance\n",
    "    tol = 1e-16\n",
    "    if theta == 0:\n",
    "        theta = tol\n",
    "    if u1 == 0 and u2 == 0:\n",
    "        u1 = tol\n",
    "        u2 = tol\n",
    "        \n",
    "    # Elements of the transformation matrix\n",
    "    costheta = cos(theta)\n",
    "    sintheta = sin(theta)\n",
    "    RA01 = u1 * u2 * (1 - costheta) - u3 * sintheta\n",
    "    RA02 = u1 * u3 * (1 - costheta) + u2 * sintheta\n",
    "    RA11 = costheta + u2 * u2 * (1 - costheta)\n",
    "    RA12 = u2 * u3 * (1 - costheta) - u1 * sintheta\n",
    "    RA20 = u3 * u1 * (1 - costheta) - u2 * sintheta\n",
    "    RA21 = u3 * u2 * (1 - costheta) + u1 * sintheta\n",
    "    RA22 = costheta + u3 * u3 * (1 - costheta)\n",
    "\n",
    "    # Determine the Euler angles\n",
    "    if ((RA22 < -1 + tol) and (RA22 > -1 - tol)):\n",
    "        cosbeta = -1\n",
    "        sinbeta = 0\n",
    "        cosgamma = RA11\n",
    "        singamma = RA01\n",
    "        cosalpha = 1\n",
    "        sinalpha = 0\n",
    "    elif ((RA22 < 1 + tol) and (RA22 > 1 - tol)):\n",
    "        cosbeta = 1\n",
    "        sinbeta = 0\n",
    "        cosgamma = RA11\n",
    "        singamma = -RA01\n",
    "        cosalpha = 1\n",
    "        sinalpha = 0\n",
    "    else:\n",
    "        cosbeta = RA22\n",
    "        sinbeta = sqrt(1 - cosbeta ** 2)\n",
    "        norm1 = sqrt(RA20 * RA20 + RA21 * RA21)\n",
    "        norm2 = sqrt(RA02 * RA02 + RA12 * RA12)\n",
    "        cosgamma = -RA20 / norm1\n",
    "        singamma = RA21 / norm1\n",
    "        cosalpha = RA02 / norm2\n",
    "        sinalpha = RA12 / norm2\n",
    "    alpha = atan2(sinalpha, cosalpha)\n",
    "    beta = atan2(sinbeta, cosbeta)\n",
    "    gamma = atan2(singamma, cosgamma)\n",
    "    \n",
    "    return REuler(l, alpha, beta, gamma)"
   ]
  },
  {
   "cell_type": "markdown",
   "metadata": {},
   "source": [
    "Finally, note that `RAxisAngle` is the rotation matrix for a single degree `l`. To get the full rotation matrix, we construct it as a block diagonal matrix with the matrices for each `l` along the diagonal: "
   ]
  },
  {
   "cell_type": "code",
   "execution_count": null,
   "metadata": {},
   "outputs": [],
   "source": [
    "def R(lmax, u1, u2, u3, theta):\n",
    "    \"\"\"Return the full axis-angle rotation matrix up to degree `lmax`.\"\"\"\n",
    "    blocks = [RAxisAngle(l, u1, u2, u3, theta) for l in range(lmax + 1)]\n",
    "    return BlockDiagMatrix(*blocks)"
   ]
  },
  {
   "cell_type": "markdown",
   "metadata": {},
   "source": [
    "And just for fun, let's define a rotation function to operate on actual `starry` spherical harmonic maps:"
   ]
  },
  {
   "cell_type": "code",
   "execution_count": null,
   "metadata": {},
   "outputs": [],
   "source": [
    "def rotate(map, u, theta):\n",
    "    \"\"\"Rotate a starry spherical harmonic map `y` using the rotation matrix defined above.\"\"\"\n",
    "    y = Matrix(map.y)\n",
    "    yrot = Matrix(R(map.lmax, u[0], u[1], u[2], theta)) * y\n",
    "    map[:] = np.array(yrot[:])"
   ]
  },
  {
   "cell_type": "markdown",
   "metadata": {},
   "source": [
    "### Let's test some rotations!"
   ]
  },
  {
   "cell_type": "code",
   "execution_count": null,
   "metadata": {},
   "outputs": [],
   "source": [
    "map = starry.Map(1)\n",
    "map[1, -1] = 1\n",
    "map.show()"
   ]
  },
  {
   "cell_type": "code",
   "execution_count": null,
   "metadata": {},
   "outputs": [],
   "source": [
    "# Rotate 90 degrees counter-clockwise about xhat\n",
    "rotate(map, [1, 0, 0], np.pi / 2)\n",
    "map.show()"
   ]
  },
  {
   "cell_type": "code",
   "execution_count": null,
   "metadata": {},
   "outputs": [],
   "source": [
    "# Rotate 90 degrees counter-clockwise about yhat\n",
    "rotate(map, [0, 1, 0], np.pi / 2)\n",
    "map.show()"
   ]
  },
  {
   "cell_type": "code",
   "execution_count": null,
   "metadata": {},
   "outputs": [],
   "source": [
    "# Rotate 90 degrees counter-clockwise about zhat\n",
    "rotate(map, [0, 0, 1], np.pi / 2)\n",
    "map.show()"
   ]
  },
  {
   "cell_type": "markdown",
   "metadata": {},
   "source": [
    "■"
   ]
  }
 ],
 "metadata": {
  "kernelspec": {
   "display_name": "Python 3",
   "language": "python",
   "name": "python3"
  },
  "language_info": {
   "codemirror_mode": {
    "name": "ipython",
    "version": 3
   },
   "file_extension": ".py",
   "mimetype": "text/x-python",
   "name": "python",
   "nbconvert_exporter": "python",
   "pygments_lexer": "ipython3",
   "version": "3.6.5"
  }
 },
 "nbformat": 4,
 "nbformat_minor": 2
}
