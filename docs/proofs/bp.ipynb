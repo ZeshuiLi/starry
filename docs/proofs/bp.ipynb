{
 "cells": [
  {
   "cell_type": "markdown",
   "metadata": {},
   "source": [
    "# The polynomial basis\n",
    "\n",
    "#### Code to compute the terms in the polynomial basis up to arbitrary $n$"
   ]
  },
  {
   "cell_type": "markdown",
   "metadata": {},
   "source": [
    "We begin by importing some stuff and defining our functions:"
   ]
  },
  {
   "cell_type": "code",
   "execution_count": null,
   "metadata": {},
   "outputs": [],
   "source": [
    "import numpy as np\n",
    "from IPython.display import display, Math"
   ]
  },
  {
   "cell_type": "code",
   "execution_count": null,
   "metadata": {},
   "outputs": [],
   "source": [
    "def ptilde(n):\n",
    "    \"\"\"Return the n^th term in the polynomial basis as a string.\"\"\"\n",
    "    if n == 0:\n",
    "        return \"1\"\n",
    "    l = int(np.floor(np.sqrt(n)))\n",
    "    m = n - l * l - l\n",
    "    mu = l - m\n",
    "    nu = l + m\n",
    "    if (nu % 2 == 0):\n",
    "        i = mu // 2\n",
    "        j = nu // 2\n",
    "        k = 0\n",
    "    else:\n",
    "        i = (mu - 1) // 2\n",
    "        j = (nu - 1) // 2\n",
    "        k = 1\n",
    "    res = \"\"\n",
    "    for base, exp in zip([\"x\", \"y\", \"z\"], [i, j, k]):\n",
    "        if exp == 0:\n",
    "            continue\n",
    "        elif exp == 1:\n",
    "            res += \"{%s}\" % (base)\n",
    "        else:    \n",
    "            res += \"{%s}^{%d}\" % (base, exp)\n",
    "    return res"
   ]
  },
  {
   "cell_type": "code",
   "execution_count": null,
   "metadata": {},
   "outputs": [],
   "source": [
    "def print_ptilde(lmax):\n",
    "    \"\"\"Print all the terms in the polynomial basis up to degree l = lmax.\"\"\"\n",
    "    n = 0\n",
    "    for l in range(lmax + 1):\n",
    "        res = \"\"\n",
    "        for m in range(-l, l + 1):\n",
    "            res += \"\\\\ \\\\ \" + ptilde(n)\n",
    "            n += 1\n",
    "        display(Math(res))"
   ]
  },
  {
   "cell_type": "markdown",
   "metadata": {},
   "source": [
    "Given these definitions, here's what the polynomial basis looks like up to $l = 10$:"
   ]
  },
  {
   "cell_type": "code",
   "execution_count": null,
   "metadata": {},
   "outputs": [],
   "source": [
    "print_ptilde(10)"
   ]
  }
 ],
 "metadata": {
  "kernelspec": {
   "display_name": "Python 3",
   "language": "python",
   "name": "python3"
  },
  "language_info": {
   "codemirror_mode": {
    "name": "ipython",
    "version": 3
   },
   "file_extension": ".py",
   "mimetype": "text/x-python",
   "name": "python",
   "nbconvert_exporter": "python",
   "pygments_lexer": "ipython3",
   "version": "3.6.5"
  }
 },
 "nbformat": 4,
 "nbformat_minor": 2
}
