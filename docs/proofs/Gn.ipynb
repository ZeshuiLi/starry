{
 "cells": [
  {
   "cell_type": "markdown",
   "metadata": {},
   "source": [
    "# The vector function $\\mathbf{G}$\n",
    "\n",
    "#### Code to validate the equation for $\\mathbf{G}$, the anti-exterior derivative of the Green's basis"
   ]
  },
  {
   "cell_type": "markdown",
   "metadata": {},
   "source": [
    "We begin by importing some stuff and defining our functions:"
   ]
  },
  {
   "cell_type": "code",
   "execution_count": null,
   "metadata": {},
   "outputs": [],
   "source": [
    "import warnings\n",
    "warnings.simplefilter(action='ignore', category=FutureWarning)\n",
    "import numpy as np\n",
    "import sympy\n",
    "from sympy import *\n",
    "\n",
    "# Initialize the session\n",
    "init_session(quiet=True)\n",
    "\n",
    "# I am using the dev version of sympy\n",
    "print(\"Using sympy version\", sympy.__version__)\n",
    "\n",
    "# Define our symbols\n",
    "x, y, z, mu, nu, l, m = symbols('x y z mu nu l m')\n",
    "z = sqrt(1 - x ** 2 - y ** 2)\n",
    "from sympy.vector import CoordSys3D\n",
    "N = CoordSys3D('N')"
   ]
  },
  {
   "cell_type": "markdown",
   "metadata": {},
   "source": [
    "## The exterior derivative\n",
    "\n",
    "We're going to use `sympy` to take some derivatives. Note that I'm using the `dev` version of the package to get nice $\\LaTeX$ rendering in this notebook.\n",
    "\n",
    "Let's begin by defining the exterior derivative operation, \n",
    "$D\\, \\hat{}\\, G = \\frac{\\mathrm{d} G_y}{\\mathrm{d} x} - \\frac{\\mathrm{d} G_x}{\\mathrm{d} y}$:"
   ]
  },
  {
   "cell_type": "code",
   "execution_count": null,
   "metadata": {},
   "outputs": [],
   "source": [
    "def ExteriorDerivative(F):\n",
    "    \"\"\"Return the exterior derivative of the vector function F.\"\"\"\n",
    "    return simplify(diff(F.dot(N.j), x) - diff(F.dot(N.i), y))"
   ]
  },
  {
   "cell_type": "markdown",
   "metadata": {},
   "source": [
    "Now we will show that the exterior derivative of the vector function $\\mathbf{G}_n(x, y)$ is equal to the $n^\\mathrm{th}$ component of the Green's basis, $\\tilde{g}_n$. There are four cases, depending on the values of $\\mu$, $\\nu$, $l$ and $m$."
   ]
  },
  {
   "cell_type": "markdown",
   "metadata": {},
   "source": [
    "## Case 1: $\\nu$ even\n",
    "\n",
    "Our function is $\\mathbf{G} = x^\\frac{\\mu+2}{2} y^\\frac{\\nu}{2} \\hat{\\mathbf{y}}$:"
   ]
  },
  {
   "cell_type": "code",
   "execution_count": null,
   "metadata": {},
   "outputs": [],
   "source": [
    "G = x ** ((mu + 2) / 2) * y ** (nu / 2) * N.j"
   ]
  },
  {
   "cell_type": "code",
   "execution_count": null,
   "metadata": {},
   "outputs": [],
   "source": [
    "G"
   ]
  },
  {
   "cell_type": "markdown",
   "metadata": {},
   "source": [
    "Its exterior derivative is "
   ]
  },
  {
   "cell_type": "code",
   "execution_count": null,
   "metadata": {},
   "outputs": [],
   "source": [
    "ExteriorDerivative(G)"
   ]
  },
  {
   "cell_type": "markdown",
   "metadata": {},
   "source": [
    "which is case 1 in Equation (11). \n",
    "\n",
    "■"
   ]
  },
  {
   "cell_type": "markdown",
   "metadata": {},
   "source": [
    "## Case 2: $\\nu = \\mu = 1$\n",
    "\n",
    "Our function is $\\mathbf{G} = \\frac{1-z^3}{3(1-z^2)}(-y\\, \\hat{\\mathbf{x}} + x\\, \\hat{\\mathbf{y}})$:"
   ]
  },
  {
   "cell_type": "code",
   "execution_count": null,
   "metadata": {},
   "outputs": [],
   "source": [
    "G = (1 - z ** 3) / (3 * (1 - z ** 2)) * (-y * N.i + x * N.j)"
   ]
  },
  {
   "cell_type": "code",
   "execution_count": null,
   "metadata": {},
   "outputs": [],
   "source": [
    "G"
   ]
  },
  {
   "cell_type": "markdown",
   "metadata": {},
   "source": [
    "Its exterior derivative is "
   ]
  },
  {
   "cell_type": "code",
   "execution_count": null,
   "metadata": {},
   "outputs": [],
   "source": [
    "ExteriorDerivative(G)"
   ]
  },
  {
   "cell_type": "markdown",
   "metadata": {},
   "source": [
    "which is just equal to $z$ (case 2 in Equation 11).\n",
    "\n",
    "■"
   ]
  },
  {
   "cell_type": "markdown",
   "metadata": {},
   "source": [
    "## Case 3: $\\nu$ odd, $\\mu = 1$, $l$ even\n",
    "\n",
    "Our function is $\\mathbf{G} = x^{l-2}z^3\\, \\mathbf{\\hat{x}}$:"
   ]
  },
  {
   "cell_type": "code",
   "execution_count": null,
   "metadata": {},
   "outputs": [],
   "source": [
    "G = x ** (l - 2) * z ** 3 * N.i"
   ]
  },
  {
   "cell_type": "code",
   "execution_count": null,
   "metadata": {},
   "outputs": [],
   "source": [
    "G"
   ]
  },
  {
   "cell_type": "markdown",
   "metadata": {},
   "source": [
    "Its exterior derivative is"
   ]
  },
  {
   "cell_type": "code",
   "execution_count": null,
   "metadata": {},
   "outputs": [],
   "source": [
    "ExteriorDerivative(G)"
   ]
  },
  {
   "cell_type": "markdown",
   "metadata": {},
   "source": [
    "which is case 3 in Equation (11).\n",
    "\n",
    "■"
   ]
  },
  {
   "cell_type": "markdown",
   "metadata": {},
   "source": [
    "## Case 4: $\\nu$ odd, $\\mu = 1$, $l$ odd\n",
    "\n",
    "Our function is $\\mathbf{G} = x^{l-3}yz^3\\, \\mathbf{\\hat{x}}$:"
   ]
  },
  {
   "cell_type": "code",
   "execution_count": null,
   "metadata": {},
   "outputs": [],
   "source": [
    "G = x ** (l - 3) * y * z ** 3 * N.i"
   ]
  },
  {
   "cell_type": "code",
   "execution_count": null,
   "metadata": {},
   "outputs": [],
   "source": [
    "G"
   ]
  },
  {
   "cell_type": "markdown",
   "metadata": {},
   "source": [
    "Its exterior derivative is"
   ]
  },
  {
   "cell_type": "code",
   "execution_count": null,
   "metadata": {},
   "outputs": [],
   "source": [
    "ExteriorDerivative(G)"
   ]
  },
  {
   "cell_type": "markdown",
   "metadata": {},
   "source": [
    "which (after some rearranging) is equal to case 4 in Equation (11).\n",
    "\n",
    "■"
   ]
  },
  {
   "cell_type": "markdown",
   "metadata": {},
   "source": [
    "## All other cases\n",
    "\n",
    "Our function is $\\mathbf{G} = x^\\frac{\\mu-3}{2}y^\\frac{\\nu-1}{2}z^3\\, \\mathbf{\\hat{y}}$:"
   ]
  },
  {
   "cell_type": "code",
   "execution_count": null,
   "metadata": {},
   "outputs": [],
   "source": [
    "G = x ** ((mu - 3) / 2) * y ** ((nu - 1) / 2) * z ** 3 * N.j"
   ]
  },
  {
   "cell_type": "code",
   "execution_count": null,
   "metadata": {},
   "outputs": [],
   "source": [
    "G"
   ]
  },
  {
   "cell_type": "markdown",
   "metadata": {},
   "source": [
    "Its exterior derivative is"
   ]
  },
  {
   "cell_type": "code",
   "execution_count": null,
   "metadata": {},
   "outputs": [],
   "source": [
    "ExteriorDerivative(G)"
   ]
  },
  {
   "cell_type": "markdown",
   "metadata": {},
   "source": [
    "It may be difficult to tell, but this is equal to the last case in Equation (11). Here's the difference between what we get and the term in Equation (11):"
   ]
  },
  {
   "cell_type": "code",
   "execution_count": null,
   "metadata": {},
   "outputs": [],
   "source": [
    "simplify(ExteriorDerivative(G) - z * ((mu - 3) / 2 * x ** ((mu - 5) / 2) * y ** ((nu - 1) / 2) - (mu - 3) / 2 * x ** ((mu - 5) / 2) * y ** ((nu + 3) / 2) - (mu + 3) / 2 * x ** ((mu - 1) / 2) * y ** ((nu - 1) / 2)))"
   ]
  },
  {
   "cell_type": "markdown",
   "metadata": {},
   "source": [
    "■"
   ]
  },
  {
   "cell_type": "code",
   "execution_count": null,
   "metadata": {},
   "outputs": [],
   "source": []
  }
 ],
 "metadata": {
  "kernelspec": {
   "display_name": "Python 3",
   "language": "python",
   "name": "python3"
  },
  "language_info": {
   "codemirror_mode": {
    "name": "ipython",
    "version": 3
   },
   "file_extension": ".py",
   "mimetype": "text/x-python",
   "name": "python",
   "nbconvert_exporter": "python",
   "pygments_lexer": "ipython3",
   "version": "3.6.5"
  }
 },
 "nbformat": 4,
 "nbformat_minor": 2
}
