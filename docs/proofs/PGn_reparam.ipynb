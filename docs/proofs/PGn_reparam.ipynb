{
 "cells": [
  {
   "cell_type": "markdown",
   "metadata": {},
   "source": [
    "# Reparametrization of the $\\mathcal{P}$ integral\n",
    "\n",
    "#### Validation of the reparametrized form in terms of $\\delta$ and $\\kappa$"
   ]
  },
  {
   "cell_type": "markdown",
   "metadata": {},
   "source": [
    "Let's simply show that the two expressions are equivalent by computing $\\mathcal{P}$ using each one for all terms up to, say, $l_\\mathrm{max} = 6$. First, we define the two integrals, which we will evaluate numerically:"
   ]
  },
  {
   "cell_type": "code",
   "execution_count": null,
   "metadata": {},
   "outputs": [],
   "source": [
    "import numpy as np\n",
    "from scipy.integrate import quad\n",
    "import matplotlib.pyplot as pl\n",
    "%matplotlib inline"
   ]
  },
  {
   "cell_type": "code",
   "execution_count": null,
   "metadata": {},
   "outputs": [],
   "source": [
    "def P(l, m, b, r):\n",
    "    \"\"\"Compute the P integral numerically from its original parametrization.\"\"\"\n",
    "    mu = l - m\n",
    "    nu = l + m\n",
    "    if (np.abs(1 - r) < b) and (b < 1 + r):\n",
    "        phi = np.arcsin((1 - r ** 2 - b ** 2) / (2 * b * r))\n",
    "    else:\n",
    "        phi = np.pi / 2\n",
    "    if (mu / 2) % 2 == 0:\n",
    "        func = lambda x, l, mu, nu, b, r: \\\n",
    "                    (r * np.cos(x)) ** (0.5 * (mu + 2)) * \\\n",
    "                    (b + r * np.sin(x)) ** (0.5 * nu) * \\\n",
    "                    r * np.cos(x)\n",
    "    elif (mu == 1) and (l % 2 == 0):\n",
    "        func = lambda x, l, mu, nu, b, r: \\\n",
    "                    -(r * np.cos(x)) ** (l - 2) * \\\n",
    "                    (1 - r ** 2 - b ** 2 - 2 * b * r * np.sin(x)) ** (3. / 2.) * \\\n",
    "                    r * np.sin(x)\n",
    "    elif (mu == 1) and (l >= 3) and (l % 2 != 0):\n",
    "        func = lambda x, l, mu, nu, b, r: \\\n",
    "                    -(r * np.cos(x)) ** (l - 3) * \\\n",
    "                    (b + r * np.sin(x)) * \\\n",
    "                    (1 - r ** 2 - b ** 2 - 2 * b * r * np.sin(x)) ** (3. / 2.) * \\\n",
    "                    r * np.sin(x)\n",
    "    elif ((mu - 1) % 2) == 0 and ((mu - 1) // 2 % 2 == 0) and (l != 1):\n",
    "        func = lambda x, l, mu, nu, b, r: \\\n",
    "                    (r * np.cos(x)) ** (0.5 * (mu - 3)) * \\\n",
    "                    (b + r * np.sin(x)) ** (0.5 * (nu - 1)) * \\\n",
    "                    (1 - r ** 2 - b ** 2 - 2 * b * r * np.sin(x)) ** (3. / 2.) * \\\n",
    "                    r * np.cos(x)\n",
    "    elif (mu == 1) and (l == 1):\n",
    "        raise ValueError(\"This case is treated separately.\")\n",
    "    else:\n",
    "        return 0\n",
    "    res, err = quad(func, np.pi - phi, 2 * np.pi + phi, args=(l, mu, nu, b, r))\n",
    "    return res"
   ]
  },
  {
   "cell_type": "code",
   "execution_count": null,
   "metadata": {},
   "outputs": [],
   "source": [
    "def PKappaDelta(l, m, b, r):\n",
    "    \"\"\"Compute the P integral numerically from its new parametrization.\"\"\"\n",
    "    mu = l - m\n",
    "    nu = l + m\n",
    "    if (np.abs(1 - r) < b) and (b < 1 + r):\n",
    "        phi = np.arcsin((1 - r ** 2 - b ** 2) / (2 * b * r))\n",
    "    else:\n",
    "        phi = np.pi / 2\n",
    "    kappa = phi + np.pi / 2\n",
    "    delta = (b - r) / (2 * r)\n",
    "    k2 = (1 - r ** 2 - b ** 2 + 2 * b * r) / (4 * b * r)\n",
    "    if (mu / 2) % 2 == 0:\n",
    "        func = lambda x, l, mu, nu, delta, k2, b, r: \\\n",
    "                    2 * (2 * r) ** (l + 2) * \\\n",
    "                    (np.sin(x) ** 2 - np.sin(x) ** 4) ** (0.25 * (mu + 4)) * \\\n",
    "                    (delta + np.sin(x) ** 2) ** (0.5 * nu)\n",
    "    elif (mu == 1) and (l % 2 == 0):\n",
    "        func = lambda x, l, mu, nu, delta, k2, b, r: \\\n",
    "                    (2 * r) ** (l - 1) * (4 * b * r) ** (3. / 2.) * \\\n",
    "                    (np.sin(x) ** 2 - np.sin(x) ** 4) ** (0.5 * (l - 2)) * \\\n",
    "                    (k2 - np.sin(x) ** 2) ** (3. / 2.) * \\\n",
    "                    (1 - 2 * np.sin(x) ** 2)\n",
    "    elif (mu == 1) and (l != 1) and (l % 2 != 0):\n",
    "        func = lambda x, l, mu, nu, delta, k2, b, r: \\\n",
    "                    (2 * r) ** (l - 1) * (4 * b * r) ** (3. / 2.) * \\\n",
    "                    (np.sin(x) ** 2 - np.sin(x) ** 4) ** (0.5 * (l - 3)) * \\\n",
    "                    (delta + np.sin(x) ** 2) * \\\n",
    "                    (k2 - np.sin(x) ** 2) ** (3. / 2.) * \\\n",
    "                    (1 - 2 * np.sin(x) ** 2)\n",
    "    elif ((mu - 1) % 2) == 0 and ((mu - 1) // 2 % 2 == 0) and (l != 1):\n",
    "        func = lambda x, l, mu, nu, delta, k2, b, r: \\\n",
    "                    2 * (2 * r) ** (l - 1) * (4 * b * r) ** (3. / 2.) * \\\n",
    "                    (np.sin(x) ** 2 - np.sin(x) ** 4) ** (0.25 * (mu - 1)) * \\\n",
    "                    (delta + np.sin(x) ** 2) ** (0.5 * (nu - 1)) * \\\n",
    "                    (k2 - np.sin(x) ** 2) ** (3. / 2.)\n",
    "    elif (mu == 1) and (l == 1):\n",
    "        raise ValueError(\"This case is treated separately.\")\n",
    "    else:\n",
    "        return 0\n",
    "    res, err = quad(func, -kappa / 2, kappa / 2, args=(l, mu, nu, delta, k2, b, r))\n",
    "    return res"
   ]
  },
  {
   "cell_type": "markdown",
   "metadata": {},
   "source": [
    "Now we plot the log of the fractional error for all 49 terms, and show that it is close to machine precision:"
   ]
  },
  {
   "cell_type": "code",
   "execution_count": null,
   "metadata": {},
   "outputs": [],
   "source": [
    "lmax = 6\n",
    "fig, ax = pl.subplots(1, figsize=(10, 5))\n",
    "labels = []\n",
    "b = 0.8\n",
    "r = 0.3\n",
    "\n",
    "n = 0\n",
    "for l in range(lmax + 1):\n",
    "    for m in range(-l, l + 1):\n",
    "        # Figure out which case this is\n",
    "        mu = l - m\n",
    "        nu = l + m\n",
    "        if (mu / 2) % 2 == 0:\n",
    "            case = 1\n",
    "        elif (mu == 1) and (l % 2 == 0):\n",
    "            case = 2\n",
    "        elif (mu == 1) and (l != 1) and (l % 2 != 0):\n",
    "            case = 3\n",
    "        elif ((mu - 1) % 2) == 0 and ((mu - 1) // 2 % 2 == 0) and (l != 1):\n",
    "            case = 4\n",
    "        elif (mu == 1) and (l == 1):\n",
    "            # Skip this case, which we treat separately\n",
    "            n += 1\n",
    "            continue\n",
    "        else:\n",
    "            case = 6\n",
    "        \n",
    "        # Compute the P integral using both methods\n",
    "        P1 = P(l, m, b, r)\n",
    "        P2 = PKappaDelta(l, m, b, r)\n",
    "        if P1 == 0 and P2 == 0:\n",
    "            err = 1e-16\n",
    "        else:\n",
    "            err = np.abs((P1 - P2) / P1)\n",
    "\n",
    "        # Let's plot the error\n",
    "        label = \"Case %d\" % case\n",
    "        if label in labels:\n",
    "            label = None\n",
    "        labels.append(label)\n",
    "        pl.plot(n, np.log10(err), marker='o', color='C%d' % (case - 1), label=label)\n",
    "        n += 1\n",
    "\n",
    "ax.set_ylim(-17, 0)\n",
    "ax.set_xlabel('Term number', fontsize=14)\n",
    "ax.set_ylabel('Log fractional error', fontsize=14)\n",
    "ax.legend();"
   ]
  },
  {
   "cell_type": "markdown",
   "metadata": {},
   "source": [
    "Looks good -- the two expressions are indeed equivalent for all cases.\n",
    "\n",
    "■"
   ]
  }
 ],
 "metadata": {
  "kernelspec": {
   "display_name": "Python 3",
   "language": "python",
   "name": "python3"
  },
  "language_info": {
   "codemirror_mode": {
    "name": "ipython",
    "version": 3
   },
   "file_extension": ".py",
   "mimetype": "text/x-python",
   "name": "python",
   "nbconvert_exporter": "python",
   "pygments_lexer": "ipython3",
   "version": "3.6.5"
  }
 },
 "nbformat": 4,
 "nbformat_minor": 2
}
