{
 "cells": [
  {
   "cell_type": "markdown",
   "metadata": {},
   "source": [
    "# The angles $\\phi$ and $\\lambda$\n",
    "\n",
    "#### Code to validate the equations for $\\phi$ and $\\lambda$, the angular positions of the intersection points between the occultor and the occulted body"
   ]
  },
  {
   "cell_type": "markdown",
   "metadata": {},
   "source": [
    "We begin by importing some stuff and defining our functions:"
   ]
  },
  {
   "cell_type": "code",
   "execution_count": null,
   "metadata": {},
   "outputs": [],
   "source": [
    "import numpy as np\n",
    "import matplotlib.pyplot as pl\n",
    "from matplotlib.patches import Circle\n",
    "%matplotlib inline"
   ]
  },
  {
   "cell_type": "code",
   "execution_count": null,
   "metadata": {},
   "outputs": [],
   "source": [
    "def draw(b, r):\n",
    "    # Set up the figure\n",
    "    fig, ax = pl.subplots(1, figsize=(4, 4))\n",
    "    ax.set_xlim(min(-1.01, -r - 0.01), max(1.01, r + 0.01));\n",
    "    ax.set_ylim(-1.01, max(1.01, b + r + 0.01));\n",
    "    ax.set_aspect(1);\n",
    "    ax.axis('off');\n",
    "\n",
    "    # Draw the two bodies\n",
    "    occulted = Circle((0, 0), 1, fill=False, color='k')\n",
    "    ax.add_artist(occulted)\n",
    "    occultor = Circle((0, b), r, fill=False, color='r')\n",
    "    ax.add_artist(occultor)\n",
    "    ax.plot(0, 0, 'ko')\n",
    "    ax.plot(0, b, 'ro')\n",
    "\n",
    "    # Mark the points of intersection if they exist\n",
    "    if np.abs(1 - r) < b and b < 1 + r:\n",
    "        \n",
    "        # Lambda\n",
    "        lam = np.arcsin((1 - r * r + b * b) / (2 * b))\n",
    "        x = np.cos(lam)\n",
    "        y = np.sin(lam)\n",
    "        pl.plot([0, x], [0, y], 'k-', alpha=0.3)\n",
    "        pl.plot(x, y, 'ko', ms=5)\n",
    "        pl.plot(-x, y, 'ko', ms=5)\n",
    "        pl.plot([0, -x], [0, y], 'k-', alpha = 0.3)\n",
    "\n",
    "        # Phi\n",
    "        phi = np.arcsin((1 - r * r - b * b) / (2 * b * r))\n",
    "        x = r * np.cos(phi)\n",
    "        y = b + r * np.sin(phi)\n",
    "        pl.plot([0, x], [b, y], 'r-', alpha=0.3)\n",
    "        pl.plot(x, y, 'ro', ms=3)\n",
    "        pl.plot(-x, y, 'ro', ms=3)\n",
    "        pl.plot([0, -x], [b, y], 'r-', alpha = 0.3)"
   ]
  },
  {
   "cell_type": "markdown",
   "metadata": {},
   "source": [
    "Let's draw some overlapping occultor/occulted bodies and test that our expressions for $\\lambda$ and $\\phi$ allow us to find the correct points of intersection for different values of $b$ and $r$. The occulted body is colored black and the occultor is colored red."
   ]
  },
  {
   "cell_type": "code",
   "execution_count": null,
   "metadata": {},
   "outputs": [],
   "source": [
    "draw(0.75, 0.5)"
   ]
  },
  {
   "cell_type": "code",
   "execution_count": null,
   "metadata": {},
   "outputs": [],
   "source": [
    "draw(0.9, 0.2)"
   ]
  },
  {
   "cell_type": "code",
   "execution_count": null,
   "metadata": {},
   "outputs": [],
   "source": [
    "draw(0.75, 0.9)"
   ]
  },
  {
   "cell_type": "code",
   "execution_count": null,
   "metadata": {},
   "outputs": [],
   "source": [
    "draw(0.9, 1.5)"
   ]
  },
  {
   "cell_type": "code",
   "execution_count": null,
   "metadata": {},
   "outputs": [],
   "source": [
    "draw(0.5, 0.4)"
   ]
  }
 ],
 "metadata": {
  "kernelspec": {
   "display_name": "Python 3",
   "language": "python",
   "name": "python3"
  },
  "language_info": {
   "codemirror_mode": {
    "name": "ipython",
    "version": 3
   },
   "file_extension": ".py",
   "mimetype": "text/x-python",
   "name": "python",
   "nbconvert_exporter": "python",
   "pygments_lexer": "ipython3",
   "version": "3.6.5"
  }
 },
 "nbformat": 4,
 "nbformat_minor": 2
}
