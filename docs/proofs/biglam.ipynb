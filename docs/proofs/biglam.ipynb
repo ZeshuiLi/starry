{
 "cells": [
  {
   "cell_type": "markdown",
   "metadata": {},
   "source": [
    "# The Mandel & Agol (2002) $\\Lambda$ function\n",
    "\n",
    "#### Validation of the $\\Lambda$ function for linearly limb-darkened transits"
   ]
  },
  {
   "cell_type": "markdown",
   "metadata": {},
   "source": [
    "Let's import some stuff and define the numerical integral of a linearly limb-darkened source. We use scipy's `dblquad` function to compute the integral of $\\sqrt{1 - x^2 - y^2}$ over the unocculted region of the source."
   ]
  },
  {
   "cell_type": "code",
   "execution_count": null,
   "metadata": {},
   "outputs": [],
   "source": [
    "import numpy as np\n",
    "from mpmath import ellipe, ellipk, ellippi\n",
    "import matplotlib.pyplot as pl\n",
    "from scipy.integrate import dblquad\n",
    "%matplotlib inline\n",
    "\n",
    "def NumericalFlux(b, r):\n",
    "    \"\"\"Compute the flux by numerical integration of the surface integral.\"\"\"\n",
    "    # I'm only coding up a specific case here\n",
    "    b = np.abs(b)\n",
    "    if b >= 1 + r:\n",
    "        return 2 * np.pi / 3\n",
    "    elif b <= r - 1:\n",
    "        return 0\n",
    "\n",
    "    # Total flux\n",
    "    total = (np.pi / 6) * (6 - 2)\n",
    "    if b >= 1 + r:\n",
    "        return total\n",
    "\n",
    "    # Get points of intersection\n",
    "    if b > 1 - r:\n",
    "        yi = (1. + b ** 2 - r ** 2) / (2. * b)\n",
    "        xi = (1. / (2. * b)) * np.sqrt(4 * b ** 2 - (1 + b ** 2 - r ** 2) ** 2)\n",
    "    else:\n",
    "        yi = np.inf\n",
    "        xi = r\n",
    "\n",
    "    # Specific intensity map\n",
    "    def I(y, x):\n",
    "        return np.sqrt(1 - x ** 2 - y ** 2)\n",
    "\n",
    "    # Lower integration limit\n",
    "    def y1(x):\n",
    "        if yi <= b:\n",
    "            # Lower occultor boundary\n",
    "            return b - np.sqrt(r ** 2 - x ** 2)\n",
    "        elif b <= 1 - r:\n",
    "            # Lower occultor boundary\n",
    "            return b - np.sqrt(r ** 2 - x ** 2)\n",
    "        else:\n",
    "            # Tricky: we need to do this in two parts\n",
    "            return b - np.sqrt(r ** 2 - x ** 2)\n",
    "\n",
    "    # Upper integration limit\n",
    "    def y2(x):\n",
    "        if yi <= b:\n",
    "            # Upper occulted boundary\n",
    "            return np.sqrt(1 - x ** 2)\n",
    "        elif b <= 1 - r:\n",
    "            # Upper occultor boundary\n",
    "            return b + np.sqrt(r ** 2 - x ** 2)\n",
    "        else:\n",
    "            # Tricky: we need to do this in two parts\n",
    "            return np.sqrt(1 - x ** 2)\n",
    "\n",
    "    # Compute the total flux\n",
    "    flux, _ = dblquad(I, -xi, xi, y1, y2, epsabs=1e-14, epsrel=1e-14)\n",
    "\n",
    "    # Do we need to solve an additional integral?\n",
    "    if not (yi <= b) and not (b <= 1 - r):\n",
    "\n",
    "        def y1(x):\n",
    "            return b - np.sqrt(r ** 2 - x ** 2)\n",
    "\n",
    "        def y2(x):\n",
    "            return b + np.sqrt(r ** 2 - x ** 2)\n",
    "\n",
    "        additional_flux, _ = dblquad(I, -r, -xi, y1, y2,\n",
    "                                     epsabs=1e-14, epsrel=1e-14)\n",
    "\n",
    "        flux += 2 * additional_flux\n",
    "\n",
    "    return total - flux"
   ]
  },
  {
   "cell_type": "markdown",
   "metadata": {},
   "source": [
    "Now we define the analytic functions in the paper:"
   ]
  },
  {
   "cell_type": "code",
   "execution_count": null,
   "metadata": {},
   "outputs": [],
   "source": [
    "def s2(b, r):\n",
    "    \"\"\"The flux during the occultation.\"\"\"\n",
    "    b = np.abs(b)\n",
    "    if b >= 1 + r:\n",
    "        return 2 * np.pi / 3\n",
    "    elif b <= r - 1:\n",
    "        return 0\n",
    "    return 2 * np.pi / 3 * (1 - 3 * Lambda(b, r) / 2 - int(r > b))\n",
    "\n",
    "\n",
    "def Lambda(b, r):\n",
    "    \"\"\"The Mandel & Agol (2002) Lambda function.\"\"\"\n",
    "    ksq = (1 - r ** 2 - b ** 2 + 2 * b * r) / (4 * b * r)\n",
    "    \n",
    "    if ksq < 1:\n",
    "        f1 = 1. / (9 * np.pi * np.sqrt(b * r))\n",
    "        f2 = ((r + b) ** 2 - 1) / (r + b)\n",
    "        f3 = -2 * r * (2 * (r + b) ** 2 + (r + b) * (r - b) - 3)\n",
    "        f4 = 3 * (b - r)\n",
    "        f5 = -4 * b * r * (4 - 7 * r ** 2 - b ** 2)\n",
    "        K = float(ellipk(ksq))\n",
    "        E = float(ellipe(ksq))\n",
    "        PI = float(ellippi(ksq * (b + r) ** 2, ksq))\n",
    "        return f1 * (f2 * (f3 * K + f4 * PI) + f5 * E)\n",
    "    else:\n",
    "        f1 = 2. / (9 * np.pi)\n",
    "        f2 = 1 - (r + b) ** 2\n",
    "        f3 = np.sqrt(1 - (b - r) ** 2)\n",
    "        f4 = 3 * (b - r) / ((b + r) * np.sqrt(1 - (b - r) ** 2))\n",
    "        f5 = -np.sqrt(1 - (b - r) ** 2) * (4 - 7 * r ** 2 - b ** 2)\n",
    "        K = float(ellipk(1 / ksq))\n",
    "        E = float(ellipe(1 / ksq))\n",
    "        PI = float(ellippi(1 / (ksq * (b + r) ** 2), 1 / ksq))\n",
    "        return f1 * (f2 * (f3 * K + f4 * PI) + f5 * E)"
   ]
  },
  {
   "cell_type": "markdown",
   "metadata": {},
   "source": [
    "Let's compare the two for a simple transit:"
   ]
  },
  {
   "cell_type": "code",
   "execution_count": null,
   "metadata": {},
   "outputs": [],
   "source": [
    "r = 0.1\n",
    "b = np.linspace(-1.5, 1.5, 100)\n",
    "sol1 = np.array([NumericalFlux(b[i], r) for i in range(100)])\n",
    "sol2 = np.array([s2(b[i], r) for i in range(100)])"
   ]
  },
  {
   "cell_type": "code",
   "execution_count": null,
   "metadata": {},
   "outputs": [],
   "source": [
    "fig, ax = pl.subplots(2, figsize=(10, 10))\n",
    "ax[0].plot(b, sol1, lw=4, label='Numerical')\n",
    "ax[0].plot(b, sol2, label='Analytic')\n",
    "ax[1].plot(b, np.abs(sol1 - sol2))\n",
    "ax[1].set_yscale('log')\n",
    "ax[0].legend();\n",
    "ax[1].set_xlabel('Impact parameter', fontsize=18);\n",
    "ax[0].set_ylabel('Flux', fontsize=18);\n",
    "ax[1].set_ylabel('Error', fontsize=18);"
   ]
  },
  {
   "cell_type": "markdown",
   "metadata": {},
   "source": [
    "Note that the error is mostly due to the numerical integration!"
   ]
  },
  {
   "cell_type": "markdown",
   "metadata": {},
   "source": [
    "■"
   ]
  }
 ],
 "metadata": {
  "kernelspec": {
   "display_name": "Python 3",
   "language": "python",
   "name": "python3"
  },
  "language_info": {
   "codemirror_mode": {
    "name": "ipython",
    "version": 3
   },
   "file_extension": ".py",
   "mimetype": "text/x-python",
   "name": "python",
   "nbconvert_exporter": "python",
   "pygments_lexer": "ipython3",
   "version": "3.6.5"
  }
 },
 "nbformat": 4,
 "nbformat_minor": 2
}
