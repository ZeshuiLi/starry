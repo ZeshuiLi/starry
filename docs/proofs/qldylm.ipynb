{
 "cells": [
  {
   "cell_type": "markdown",
   "metadata": {},
   "source": [
    "# Quadratic limb darkening\n",
    "\n",
    "#### Code to express the quadratic limb darkening specific intensity map as a sum of spherical harmonics"
   ]
  },
  {
   "cell_type": "markdown",
   "metadata": {},
   "source": [
    "We begin by importing some stuff and defining our functions. Note that these are all defined in `A.ipynb`."
   ]
  },
  {
   "cell_type": "code",
   "execution_count": null,
   "metadata": {},
   "outputs": [],
   "source": [
    "import numpy as np\n",
    "from IPython.display import display, Math\n",
    "import sympy\n",
    "from sympy import *\n",
    "from sympy.functions.special.tensor_functions import KroneckerDelta\n",
    "\n",
    "# Initialize the session\n",
    "init_session(quiet=True)\n",
    "\n",
    "# I am using the dev version of sympy\n",
    "print(\"Using sympy version\", sympy.__version__)\n",
    "\n",
    "# Define our symbols\n",
    "x, y, z, mu, nu, l, m, j, k, p, q, n, u1, u2 = symbols('x y z mu nu l m j k p q n u1 u2')\n",
    "y0 = Symbol('Y_0,0')\n",
    "y1 = Symbol('Y_1,-1')\n",
    "y2 = Symbol('Y_1,0')\n",
    "y3 = Symbol('Y_1,1')\n",
    "y4 = Symbol('Y_2,-2')\n",
    "y5 = Symbol('Y_2,-1')\n",
    "y6 = Symbol('Y_2,0')\n",
    "y7 = Symbol('Y_2,1')\n",
    "y8 = Symbol('Y_2,2')\n",
    "\n",
    "# Definitions from `bp.ipynb`\n",
    "def ptilde(n, x, y):\n",
    "    \"\"\"Return the n^th term in the polynomial basis.\"\"\"\n",
    "    l = floor(sqrt(n))\n",
    "    m = n - l * l - l\n",
    "    mu = l - m\n",
    "    nu = l + m\n",
    "    if (nu % 2 == 0):\n",
    "        i = mu // 2\n",
    "        j = nu // 2\n",
    "        k = 0\n",
    "    else:\n",
    "        i = (mu - 1) // 2\n",
    "        j = (nu - 1) // 2\n",
    "        k = 1\n",
    "    return x ** i * y ** j * sqrt(1 - x ** 2 - y ** 2) ** k\n",
    "\n",
    "# Definitions from `ylmxyz.ipynb`\n",
    "def A(l, m):\n",
    "    \"\"\"A spherical harmonic normalization constant.\"\"\"\n",
    "    return sqrt((2 - KroneckerDelta(m, 0)) * (2 * l + 1) * factorial(l - m) / (4 * pi * factorial(l + m)))\n",
    "\n",
    "def B(l, m, j, k):\n",
    "    \"\"\"Another spherical harmonic normalization constant.\"\"\"\n",
    "    try: \n",
    "        ratio = factorial((l + m + k - 1) / 2) / factorial((-l + m + k - 1) / 2)\n",
    "    except ValueError:\n",
    "        ratio = 0\n",
    "    return 2 ** l * factorial(m) / (factorial(j) * factorial(k) * factorial(m - j) * factorial(l - m - k)) * ratio\n",
    "\n",
    "def C(p, q, k):\n",
    "    \"\"\"Return the binomial theorem coefficient `C`.\"\"\"\n",
    "    return factorial(k / 2) / (factorial(q / 2) * factorial((k - p) / 2) * factorial((p - q) / 2))\n",
    "\n",
    "def Y(l, m, x, y):\n",
    "    \"\"\"Return the spherical harmonic of degree `l` and order `m`.\"\"\"\n",
    "    res = 0\n",
    "    z = sqrt(1 - x ** 2 - y ** 2)\n",
    "    if (m >= 0):\n",
    "        for j in range(0, m + 1, 2):\n",
    "            for k in range(0, l - m + 1, 2):\n",
    "                for p in range(0, k + 1, 2):\n",
    "                    for q in range(0, p + 1, 2):\n",
    "                        res += (-1) ** ((j + p) // 2) * A(l, m) * B(l, m, j, k) * C(p, q, k) * x ** (m - j + p - q) * y ** (j + q)\n",
    "            for k in range(1, l - m + 1, 2):\n",
    "                for p in range(0, k, 2):\n",
    "                    for q in range(0, p + 1, 2):\n",
    "                        res += (-1) ** ((j + p) // 2) * A(l, m) * B(l, m, j, k) * C(p, q, k - 1) * x ** (m - j + p - q) * y ** (j + q) * z          \n",
    "    else:\n",
    "        for j in range(1, abs(m) + 1, 2):\n",
    "            for k in range(0, l - abs(m) + 1, 2):\n",
    "                for p in range(0, k + 1, 2):\n",
    "                    for q in range(0, p + 1, 2):\n",
    "                        res += (-1) ** ((j + p - 1) // 2) * A(l, abs(m)) * B(l, abs(m), j, k) * C(p, q, k) * x ** (abs(m) - j + p - q) * y ** (j + q)\n",
    "            for k in range(1, l - abs(m) + 1, 2):\n",
    "                for p in range(0, k, 2):\n",
    "                    for q in range(0, p + 1, 2):\n",
    "                        res += (-1) ** ((j + p - 1) // 2) * A(l, abs(m)) * B(l, abs(m), j, k) * C(p, q, k - 1) * x ** (abs(m) - j + p - q) * y ** (j + q) * z\n",
    "\n",
    "    return res\n",
    "\n",
    "def Coefficient(expression, term):\n",
    "    \"\"\"Return the coefficient multiplying `term` in `expression`.\"\"\"\n",
    "    # Get the coefficient\n",
    "    coeff = expression.coeff(term)\n",
    "    # Set any non-constants in this coefficient to zero. If the coefficient\n",
    "    # is not a constant, this is not the term we are interested in!\n",
    "    coeff = coeff.subs(sqrt(1 - x ** 2 - y ** 2), 0).subs(x, 0).subs(y, 0)\n",
    "    return coeff\n",
    "\n",
    "def p_Y(l, m, lmax):\n",
    "    \"\"\"Return the polynomial basis representation of the spherical harmonic `Y_{lm}`.\"\"\"\n",
    "    ylm = Y(l, m, x, y)\n",
    "    res = [ylm.subs(sqrt(1 - x ** 2 - y ** 2), 0).subs(x, 0).subs(y, 0)]\n",
    "    for n in range(1, (lmax + 1) ** 2):\n",
    "        res.append(Coefficient(ylm, ptilde(n, x, y)))\n",
    "    return res\n",
    "\n",
    "def A1(lmax):\n",
    "    \"\"\"Return the change of basis matrix A1. The columns of this matrix are given by `p_Y`.\"\"\"\n",
    "    res = zeros((lmax + 1) ** 2, (lmax + 1) ** 2)\n",
    "    n = 0\n",
    "    for l in range(lmax + 1):\n",
    "        for m in range(-l, l + 1):\n",
    "            res[n] = p_Y(l, m, lmax)\n",
    "            n += 1\n",
    "    return res"
   ]
  },
  {
   "cell_type": "markdown",
   "metadata": {},
   "source": [
    "The specific intensity for a quadratically limb-darkened source is\n",
    "\n",
    "\\begin{align}\n",
    "\\frac{I(\\mu)}{I(1)} &= 1 - u_1 (1 - \\mu) - u_2 (1 - \\mu)^2 \\\\\n",
    "                    &= (1 - u_1 - u_2) + (u_1 + 2 u_2) \\mu - u_2 \\mu^2\n",
    "\\end{align}\n",
    "\n",
    "Noting that $\\mu = \\cos\\theta = z$ and that $z^2 = 1 - x^2 - y^2$, we may write\n",
    "\n",
    "\\begin{align}\n",
    "\\frac{I(x, y)}{I(1)} = (1 - u_1 - 2 u_2) + (u1 + 2 u_2) z + (u_2) x^2 + (u_2) y^2\n",
    "\\end{align}\n",
    "\n",
    "This can be expressed in the polynomial basis as the vector"
   ]
  },
  {
   "cell_type": "code",
   "execution_count": null,
   "metadata": {},
   "outputs": [],
   "source": [
    "pvec = Matrix([1 - u1 - 2 * u2, 0, u1 + 2 * u2, 0, u2, 0, 0, 0, u2])\n",
    "pvec.T"
   ]
  },
  {
   "cell_type": "markdown",
   "metadata": {},
   "source": [
    "We can easily transform this into the spherical harmonic basis via the (inverse of the) change of basis matrix $\\mathbf{A_1}$:"
   ]
  },
  {
   "cell_type": "code",
   "execution_count": null,
   "metadata": {},
   "outputs": [],
   "source": [
    "yvec = A1(2).inv() * pvec\n",
    "yvec"
   ]
  },
  {
   "cell_type": "markdown",
   "metadata": {},
   "source": [
    "Recalling that the basis of spherical harmonics is"
   ]
  },
  {
   "cell_type": "code",
   "execution_count": null,
   "metadata": {},
   "outputs": [],
   "source": [
    "ybasis = Matrix([y0, y1, y2, y3, y4, y5, y6, y7, y8])\n",
    "ybasis.T"
   ]
  },
  {
   "cell_type": "markdown",
   "metadata": {},
   "source": [
    "we can dot our vector in to get the expression for the specific intensity in spherical harmonics:"
   ]
  },
  {
   "cell_type": "code",
   "execution_count": null,
   "metadata": {},
   "outputs": [],
   "source": [
    "simplify(yvec.dot(ybasis), rational=True)"
   ]
  },
  {
   "cell_type": "markdown",
   "metadata": {},
   "source": [
    "■"
   ]
  }
 ],
 "metadata": {
  "kernelspec": {
   "display_name": "Python 3",
   "language": "python",
   "name": "python3"
  },
  "language_info": {
   "codemirror_mode": {
    "name": "ipython",
    "version": 3
   },
   "file_extension": ".py",
   "mimetype": "text/x-python",
   "name": "python",
   "nbconvert_exporter": "python",
   "pygments_lexer": "ipython3",
   "version": "3.6.5"
  }
 },
 "nbformat": 4,
 "nbformat_minor": 2
}
