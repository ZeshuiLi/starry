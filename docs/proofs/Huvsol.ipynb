{
 "cells": [
  {
   "cell_type": "markdown",
   "metadata": {},
   "source": [
    "# The primitive integral $\\mathcal{H}_{u,v}$\n",
    "\n",
    "#### Validation of the solution to the primitive integral"
   ]
  },
  {
   "cell_type": "markdown",
   "metadata": {},
   "source": [
    "Let's import some stuff and define the numerical version of the integral and the analytical version based on recurrence relations."
   ]
  },
  {
   "cell_type": "code",
   "execution_count": null,
   "metadata": {},
   "outputs": [],
   "source": [
    "import numpy as np\n",
    "from scipy.integrate import quad\n",
    "import matplotlib.pyplot as pl\n",
    "%matplotlib inline\n",
    "\n",
    "def HNumerical(u, v, lam):\n",
    "    \"\"\"Compute the integral numerically.\"\"\"\n",
    "    sol, err = quad(lambda phi: np.cos(phi) ** u * np.sin(phi) ** v, np.pi - lam, 2 * np.pi + lam)\n",
    "    return sol\n",
    "\n",
    "def HAnalytic(u, v, lam):\n",
    "    \"\"\"Compute the integral analytically.\"\"\"\n",
    "    if (u % 2 != 0):\n",
    "        return 0\n",
    "    elif u == 0 and v == 0:\n",
    "        return 2 * lam + np.pi\n",
    "    elif u == 0 and v == 1:\n",
    "        return -2 * np.cos(lam)\n",
    "    elif u >= 2:\n",
    "        return 2 / (u + v) * np.cos(lam) ** (u - 1) * np.sin(lam) ** (v + 1) + (u - 1) / (u + v) * HAnalytical(u - 2, v, lam)\n",
    "    else:\n",
    "        return -2 / (u + v) * np.cos(lam) ** (u + 1) * np.sin(lam) ** (v - 1) + (v - 1) / (u + v) * HAnalytical(u, v - 2, lam) "
   ]
  },
  {
   "cell_type": "code",
   "execution_count": null,
   "metadata": {},
   "outputs": [],
   "source": [
    "def Plot(u, v):\n",
    "    \"\"\"Plot the numerical and analytic solution for comparison.\"\"\"\n",
    "    lam = np.linspace(0, np.pi / 2, 100)\n",
    "    fig, ax = pl.subplots(1, 2, figsize=(15, 3))\n",
    "    fig.subplots_adjust(wspace=0.25)\n",
    "    sol1 = np.array([HNumerical(u, v, l) for l in lam])\n",
    "    sol2 = np.array([HAnalytic(u, v, l) for l in lam])\n",
    "    ax[0].plot(lam, sol1, lw=4, label='Numerical');\n",
    "    ax[0].plot(lam, sol2, label='Analytic');\n",
    "    ax[0].legend();\n",
    "    ax[1].plot(lam, np.abs(sol1 - sol2))\n",
    "    ax[1].set_yscale('log')\n",
    "    ax[0].set_xlabel(r'$\\lambda$', fontsize=18);\n",
    "    ax[1].set_xlabel(r'$\\lambda$', fontsize=18);\n",
    "    ax[0].set_ylabel(r'$H_{%d,%d}$' % (u, v), fontsize=18);\n",
    "    ax[1].set_ylabel(r'Error', fontsize=18);"
   ]
  },
  {
   "cell_type": "markdown",
   "metadata": {},
   "source": [
    "We can now show that the solutions agree to floating point precision for the first several values of $u$ and $v$:"
   ]
  },
  {
   "cell_type": "code",
   "execution_count": null,
   "metadata": {},
   "outputs": [],
   "source": [
    "Plot(0,0)"
   ]
  },
  {
   "cell_type": "code",
   "execution_count": null,
   "metadata": {},
   "outputs": [],
   "source": [
    "Plot(0,1)"
   ]
  },
  {
   "cell_type": "code",
   "execution_count": null,
   "metadata": {},
   "outputs": [],
   "source": [
    "Plot(2,0)"
   ]
  },
  {
   "cell_type": "code",
   "execution_count": null,
   "metadata": {},
   "outputs": [],
   "source": [
    "Plot(2,1)"
   ]
  },
  {
   "cell_type": "code",
   "execution_count": null,
   "metadata": {},
   "outputs": [],
   "source": [
    "Plot(4,0)"
   ]
  },
  {
   "cell_type": "code",
   "execution_count": null,
   "metadata": {},
   "outputs": [],
   "source": [
    "Plot(4,1)"
   ]
  },
  {
   "cell_type": "code",
   "execution_count": null,
   "metadata": {},
   "outputs": [],
   "source": [
    "Plot(4,2)"
   ]
  },
  {
   "cell_type": "code",
   "execution_count": null,
   "metadata": {},
   "outputs": [],
   "source": [
    "Plot(4,3)"
   ]
  },
  {
   "cell_type": "code",
   "execution_count": null,
   "metadata": {},
   "outputs": [],
   "source": [
    "Plot(4,4)"
   ]
  },
  {
   "cell_type": "markdown",
   "metadata": {},
   "source": [
    "■"
   ]
  }
 ],
 "metadata": {
  "kernelspec": {
   "display_name": "Python 3",
   "language": "python",
   "name": "python3"
  },
  "language_info": {
   "codemirror_mode": {
    "name": "ipython",
    "version": 3
   },
   "file_extension": ".py",
   "mimetype": "text/x-python",
   "name": "python",
   "nbconvert_exporter": "python",
   "pygments_lexer": "ipython3",
   "version": "3.6.5"
  }
 },
 "nbformat": 4,
 "nbformat_minor": 2
}
