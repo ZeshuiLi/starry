{
 "cells": [
  {
   "cell_type": "markdown",
   "metadata": {},
   "source": [
    "# Spherical harmonics\n",
    "\n",
    "## $Y_{lm}(x, y, z)$\n",
    "\n",
    "#### Code to compute the spherical harmonic $Y_{lm}(x,y,z)$"
   ]
  },
  {
   "cell_type": "markdown",
   "metadata": {},
   "source": [
    "We begin by importing some stuff and defining our functions:"
   ]
  },
  {
   "cell_type": "code",
   "execution_count": null,
   "metadata": {},
   "outputs": [],
   "source": [
    "import numpy as np\n",
    "from IPython.display import display, Math\n",
    "import sympy\n",
    "from sympy import *\n",
    "from sympy.functions.special.tensor_functions import KroneckerDelta\n",
    "\n",
    "# Initialize the session\n",
    "init_session(quiet=True)\n",
    "\n",
    "# I am using the dev version of sympy\n",
    "print(\"Using sympy version\", sympy.__version__)\n",
    "\n",
    "# Define our symbols\n",
    "x, y, z, mu, nu, l, m, j, k, p, q = symbols('x y z mu nu l m j k p q')"
   ]
  },
  {
   "cell_type": "code",
   "execution_count": null,
   "metadata": {},
   "outputs": [],
   "source": [
    "def A(l, m):\n",
    "    \"\"\"A spherical harmonic normalization constant.\"\"\"\n",
    "    return sqrt((2 - KroneckerDelta(m, 0)) * (2 * l + 1) * factorial(l - m) / (4 * pi * factorial(l + m)))\n",
    "\n",
    "# Print it\n",
    "A(l, m)"
   ]
  },
  {
   "cell_type": "code",
   "execution_count": null,
   "metadata": {},
   "outputs": [],
   "source": [
    "def B(l, m, j, k):\n",
    "    \"\"\"Another spherical harmonic normalization constant.\"\"\"\n",
    "    # NOTE: The factorial of a negative integer is +/- infinity. This can happen in the denominator\n",
    "    # of the expression for `B`, so in that case `B = 0` exactly. Let's override the error `sympy`\n",
    "    # throws because the value is undetermined and set the value of `B` to zero directly in this case.\n",
    "    try: \n",
    "        ratio = factorial((l + m + k - 1) / 2) / factorial((-l + m + k - 1) / 2)\n",
    "    except ValueError:\n",
    "        ratio = 0\n",
    "    return 2 ** l * factorial(m) / (factorial(j) * factorial(k) * factorial(m - j) * factorial(l - m - k)) * ratio\n",
    "\n",
    "# Print it\n",
    "B(l, m, j, k)"
   ]
  },
  {
   "cell_type": "code",
   "execution_count": null,
   "metadata": {},
   "outputs": [],
   "source": [
    "def Yxyz(l, m, x, y, z):\n",
    "    \"\"\"Return the spherical harmonic of degree `l` and order `m` as a function of `x`, `y`, and `z`.\"\"\"\n",
    "    res = 0\n",
    "    if (m >= 0):\n",
    "        for j in range(0, m + 1, 2):\n",
    "            for k in range(0, l - m + 1):\n",
    "                res += (-1) ** (j // 2) * A(l, m) * B(l, m, j, k) * x ** (m - j) * y ** j * z ** k\n",
    "    else:\n",
    "        for j in range(1, abs(m) + 1, 2):\n",
    "            for k in range(0, l - abs(m) + 1):\n",
    "                res += (-1) ** ((j - 1) // 2) * A(l, abs(m)) * B(l, abs(m), j, k) * x ** (abs(m) - j) * y ** j * z ** k\n",
    "    return res"
   ]
  },
  {
   "cell_type": "markdown",
   "metadata": {},
   "source": [
    "Let's compute and display the spherical harmonics up to and including degree $l = 3$:"
   ]
  },
  {
   "cell_type": "code",
   "execution_count": null,
   "metadata": {},
   "outputs": [],
   "source": [
    "lmax = 3\n",
    "for l in range(lmax + 1):\n",
    "    display([Yxyz(l, m, x, y, z) for m in range(-l, l + 1)],)"
   ]
  },
  {
   "cell_type": "markdown",
   "metadata": {},
   "source": [
    "From [Wikipedia](https://en.wikipedia.org/wiki/Table_of_spherical_harmonics#Real_spherical_harmonics), the real spherical harmonics up to degree $l = 3$ on the unit sphere are:\n",
    "\n",
    "\n",
    "$\\frac{1}{2} \\sqrt{\\frac{1}{\\pi}}$\n",
    "\n",
    "$\\sqrt{\\frac{3}{4 \\pi}} \\cdot y, \n",
    "\\sqrt{\\frac{3}{4 \\pi}} \\cdot z,\n",
    "\\sqrt{\\frac{3}{4 \\pi}} \\cdot x$\n",
    "\n",
    "$\\frac{1}{2} \\sqrt{\\frac{15}{\\pi}} \\cdot x y,\n",
    "\\frac{1}{2} \\sqrt{\\frac{15}{\\pi}} \\cdot y z,\n",
    "\\frac{1}{4} \\sqrt{\\frac{5}{\\pi}} \\cdot (- x^2 - y^2 + 2 z^2),\n",
    "\\frac{1}{2} \\sqrt{\\frac{15}{\\pi}} \\cdot z x,\n",
    "\\frac{1}{4} \\sqrt{\\frac{15}{\\pi}} \\cdot (x^2 - y^2)$\n",
    "\n",
    "$\\frac{1}{4} \\sqrt{\\frac{35}{2 \\pi}} \\cdot \\left( 3 x^2 - y^2 \\right) y,\n",
    "\\frac{1}{2} \\sqrt{\\frac{105}{\\pi}} \\cdot xy z,\n",
    "\\frac{1}{4} \\sqrt{\\frac{21}{2 \\pi}} \\cdot y (4 z^2 - x^2 - y^2),\n",
    "\\frac{1}{4} \\sqrt{\\frac{7}{\\pi}} \\cdot z (2 z^2 - 3 x^2 - 3 y^2),\n",
    "\\frac{1}{4} \\sqrt{\\frac{21}{2 \\pi}} \\cdot x (4 z^2 - x^2 - y^2),\n",
    "\\frac{1}{4} \\sqrt{\\frac{105}{\\pi}} \\cdot \\left( x^2 - y^2 \\right) z,\n",
    "\\frac{1}{4} \\sqrt{\\frac{35}{2 \\pi}} \\cdot \\left( x^2 - 3 y^2 \\right) x$"
   ]
  },
  {
   "cell_type": "markdown",
   "metadata": {},
   "source": [
    "Recalling that $z^2 = 1 - x^2 - y^2$, the expressions agree.\n",
    "\n",
    "■"
   ]
  },
  {
   "cell_type": "markdown",
   "metadata": {},
   "source": [
    "## $Y_{lm}(x, y)$\n",
    "\n",
    "#### Code to compute the spherical harmonic $Y_{lm}(x,y)$ (expressions where powers of $z$ are reduced to powers of $x$ and $y$)"
   ]
  },
  {
   "cell_type": "code",
   "execution_count": null,
   "metadata": {},
   "outputs": [],
   "source": [
    "def C(p, q, k):\n",
    "    \"\"\"Return the binomial theorem coefficient `C`.\"\"\"\n",
    "    return factorial(k / 2) / (factorial(q / 2) * factorial((k - p) / 2) * factorial((p - q) / 2))\n",
    "\n",
    "# Print it\n",
    "C(p, q, k)"
   ]
  },
  {
   "cell_type": "code",
   "execution_count": null,
   "metadata": {},
   "outputs": [],
   "source": [
    "def Y(l, m, x, y):\n",
    "    \"\"\"Return the spherical harmonic of degree `l` and order `m`.\"\"\"\n",
    "    res = 0\n",
    "    z = sqrt(1 - x ** 2 - y ** 2)\n",
    "    if (m >= 0):\n",
    "        for j in range(0, m + 1, 2):\n",
    "            for k in range(0, l - m + 1, 2):\n",
    "                for p in range(0, k + 1, 2):\n",
    "                    for q in range(0, p + 1, 2):\n",
    "                        res += (-1) ** ((j + p) // 2) * A(l, m) * B(l, m, j, k) * C(p, q, k) * x ** (m - j + p - q) * y ** (j + q)\n",
    "            for k in range(1, l - m + 1, 2):\n",
    "                for p in range(0, k, 2):\n",
    "                    for q in range(0, p + 1, 2):\n",
    "                        res += (-1) ** ((j + p) // 2) * A(l, m) * B(l, m, j, k) * C(p, q, k - 1) * x ** (m - j + p - q) * y ** (j + q) * z          \n",
    "    else:\n",
    "        for j in range(1, abs(m) + 1, 2):\n",
    "            for k in range(0, l - abs(m) + 1, 2):\n",
    "                for p in range(0, k + 1, 2):\n",
    "                    for q in range(0, p + 1, 2):\n",
    "                        res += (-1) ** ((j + p - 1) // 2) * A(l, abs(m)) * B(l, abs(m), j, k) * C(p, q, k) * x ** (abs(m) - j + p - q) * y ** (j + q)\n",
    "            for k in range(1, l - abs(m) + 1, 2):\n",
    "                for p in range(0, k, 2):\n",
    "                    for q in range(0, p + 1, 2):\n",
    "                        res += (-1) ** ((j + p - 1) // 2) * A(l, abs(m)) * B(l, abs(m), j, k) * C(p, q, k - 1) * x ** (abs(m) - j + p - q) * y ** (j + q) * z\n",
    "\n",
    "    return res"
   ]
  },
  {
   "cell_type": "markdown",
   "metadata": {},
   "source": [
    "Let's check that if we set $z^2 = 1 - x^2 - y^2$ our expressions $Y_{lm}(x, y, z)$ and $Y_{lm}(x, y)$ agree:"
   ]
  },
  {
   "cell_type": "code",
   "execution_count": null,
   "metadata": {},
   "outputs": [],
   "source": [
    "lmax = 3\n",
    "z = sqrt(1 - x ** 2 - y ** 2)\n",
    "for l in range(lmax + 1):\n",
    "    display([simplify(Yxyz(l, m, x, y, z) - Y(l, m, x, y)) for m in range(-l, l + 1)])"
   ]
  },
  {
   "cell_type": "markdown",
   "metadata": {},
   "source": [
    "■"
   ]
  }
 ],
 "metadata": {
  "kernelspec": {
   "display_name": "Python 3",
   "language": "python",
   "name": "python3"
  },
  "language_info": {
   "codemirror_mode": {
    "name": "ipython",
    "version": 3
   },
   "file_extension": ".py",
   "mimetype": "text/x-python",
   "name": "python",
   "nbconvert_exporter": "python",
   "pygments_lexer": "ipython3",
   "version": "3.6.5"
  }
 },
 "nbformat": 4,
 "nbformat_minor": 2
}
